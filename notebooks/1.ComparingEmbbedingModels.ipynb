{
 "cells": [
  {
   "cell_type": "markdown",
   "metadata": {},
   "source": [
    "## Playing with sentence embeddings \n",
    "\n",
    "The embbedings are clearly of different qualities. The default, Ada, is actuially pretty bad \n",
    "and shows hige picks for some elements rtegardless of the sentence. This influences the \n",
    "sentence distance. The text-embedding-3-xx produce a much more obvious differentiation and \n",
    "the xx = small works very well event for 256 dimensions "
   ]
  },
  {
   "cell_type": "code",
   "execution_count": null,
   "metadata": {},
   "outputs": [],
   "source": [
    "import os\n",
    "import openai\n",
    "import sys, numpy as np \n",
    "sys.path.append('../..')\n",
    "from langchain.vectorstores import Chroma\n",
    "\n",
    "#from dotenv import load_dotenv, find_dotenv\n",
    "#_ = load_dotenv(find_dotenv()) # read local .env file\n",
    "\n",
    "openai.api_key  =  os.environ['OPENAI_API_KEY']\n",
    "show = lambda obj: print( [i for i in dir(obj) if not i.startswith('_')] ) \n",
    "\n"
   ]
  },
  {
   "cell_type": "markdown",
   "metadata": {},
   "source": []
  },
  {
   "cell_type": "code",
   "execution_count": null,
   "metadata": {},
   "outputs": [],
   "source": [
    "#from langchain.embeddings.openai import OpenAIEmbeddings\n",
    "\n",
    "from langchain.embeddings import OpenAIEmbeddings\n",
    "import numpy as np \n",
    "\n",
    "sentence1 = \"i like dogs\"\n",
    "sentence2 = \"i like canines\"\n",
    "sentence3 = \"whats the weather like in The England?\" #\"the weather is ugly outside. it is raining, cold and windy\"\n",
    "\n",
    "dimension = 256\n",
    "openai_embbeding_model_large    = 'text-embedding-3-large' \n",
    "openai_embbeding_model_small    = 'text-embedding-3-small' \n",
    "openai_embbeding_model_default  = 'text-embedding-ada-002' \n",
    "\n",
    "embedding = OpenAIEmbeddings( model = openai_embbeding_model_small,\n",
    "                             model_kwargs= {'dimensions' : dimension}\n",
    "                             )\n",
    "embedding_model = embedding\n",
    "sentence1_emb  = embedding.embed_query(sentence1)\n",
    "sentence2_emb  = embedding.embed_query(sentence2)\n",
    "sentence3_emb  = embedding.embed_query(sentence3)\n"
   ]
  },
  {
   "cell_type": "code",
   "execution_count": 1,
   "metadata": {},
   "outputs": [
    {
     "ename": "NameError",
     "evalue": "name 'sentence1_emb' is not defined",
     "output_type": "error",
     "traceback": [
      "\u001b[0;31m---------------------------------------------------------------------------\u001b[0m",
      "\u001b[0;31mNameError\u001b[0m                                 Traceback (most recent call last)",
      "Cell \u001b[0;32mIn[1], line 1\u001b[0m\n\u001b[0;32m----> 1\u001b[0m \u001b[43msentence1_emb\u001b[49m[\u001b[38;5;241m0\u001b[39m:\u001b[38;5;241m10\u001b[39m]\n\u001b[1;32m      2\u001b[0m sentence2_emb[\u001b[38;5;241m0\u001b[39m:\u001b[38;5;241m10\u001b[39m]\n\u001b[1;32m      3\u001b[0m sentence3_emb[\u001b[38;5;241m0\u001b[39m:\u001b[38;5;241m10\u001b[39m]\n",
      "\u001b[0;31mNameError\u001b[0m: name 'sentence1_emb' is not defined"
     ]
    }
   ],
   "source": [
    "\n",
    "sentence1_emb[0:10]\n",
    "sentence2_emb[0:10]\n",
    "sentence3_emb[0:10]\n",
    "\n",
    "# sentence embbedings is not the dot product of the individual word embeddings.\n",
    "# otherwise two sentences with the same words would be the same regardless of the order of the words\n",
    "# transfomers take the -context-aware- of each word and then average all the word in one vector\n",
    "# this is actually the result of training the NN with similar sentences (or question-answer pairs), etc...\n",
    "print('---similarity---')\n",
    "similarity = [] \n",
    "for x in [sentence1_emb,sentence2_emb,sentence3_emb]:\n",
    "    sim = [ np.dot(sentence1_emb, x),np.dot(sentence2_emb, x),np.dot(sentence3_emb, x)]\n",
    "    print( sim )\n",
    "    similarity.append(sim)\n",
    "\n",
    "\n",
    "import plotly.express as px\n",
    "\n",
    "fig = px.imshow(similarity)\n",
    "fig.show()\n"
   ]
  },
  {
   "cell_type": "code",
   "execution_count": 99,
   "metadata": {},
   "outputs": [
    {
     "name": "stdout",
     "output_type": "stream",
     "text": [
      "Shape: (8, 256)\n",
      "[[ 0.01581429 -0.0242281   0.02955583 ... -0.00237022 -0.00086029\n",
      "  -0.02217071]\n",
      " [ 0.07111177  0.00881817 -0.01795817 ...  0.03208011 -0.03303273\n",
      "   0.02798642]\n",
      " [ 0.07778556 -0.07021929  0.03745029 ... -0.02865927 -0.03742307\n",
      "  -0.03415706]\n",
      " ...\n",
      " [ 0.00064378 -0.07058794 -0.00739767 ... -0.01381068 -0.09473105\n",
      "  -0.0213682 ]\n",
      " [-0.07632933  0.00415913 -0.04993507 ... -0.00541069  0.01426716\n",
      "  -0.01477671]\n",
      " [-0.05077116 -0.01894195 -0.01545435 ...  0.09391887 -0.06674411\n",
      "   0.02079595]]\n"
     ]
    }
   ],
   "source": [
    "in_1 = \"Missing flamingo discovered at swimming pool\"\n",
    "in_2 = \"Sea otter spotted on surfboard by beach\"\n",
    "in_3 = \"Baby panda enjoys boat ride\"\n",
    "in_4 = \"Breakfast themed food truck beloved by all!\"\n",
    "in_5 = \"New curry restaurant aims to please!\"\n",
    "in_6 = \"Python developers are wonderful people\"\n",
    "in_7 = \"TypeScript, C++ or Java? All are great!\" \n",
    "in_8 = \"Planel Plutto is very small. It is a dwarf planet.\" \n",
    "\n",
    "input_text_lst_news = [in_1, in_2, in_3, in_4, in_5, in_6, in_7,in_8]\n",
    "\n",
    "embeddings = embedding.embed_documents(input_text_lst_news)\n",
    " \n",
    "      \n",
    "embeddings_array = np.array(embeddings) \n",
    "print(\"Shape: \" + str(embeddings_array.shape))\n",
    "print(embeddings_array)\n"
   ]
  },
  {
   "cell_type": "code",
   "execution_count": 100,
   "metadata": {},
   "outputs": [
    {
     "data": {
      "application/vnd.plotly.v1+json": {
       "config": {
        "plotlyServerURL": "https://plot.ly"
       },
       "data": [
        {
         "hovertemplate": "x=%{x}<br>y=%{y}<br>text=%{text}<extra></extra>",
         "legendgroup": "",
         "marker": {
          "color": "#636efa",
          "symbol": "circle"
         },
         "mode": "markers+text",
         "name": "",
         "orientation": "v",
         "showlegend": false,
         "text": [
          "Missing flamingo discovered at swimming pool",
          "Sea otter spotted on surfboard by beach",
          "Baby panda enjoys boat ride",
          "Breakfast themed food truck beloved by all!",
          "New curry restaurant aims to please!",
          "Python developers are wonderful people",
          "TypeScript, C++ or Java? All are great!",
          "Planel Plutto is very small. It is a dwarf planet."
         ],
         "textposition": "bottom right",
         "type": "scatter",
         "x": {
          "bdata": "uTmfDuCW3b8VOa4BCKzdv7QN/Dg+1du/Jm7HCEILyD/wzPMjrkLYPxT0+bzwzNg/vqgpQQQS5D8ikrY8RELMvw==",
          "dtype": "f8"
         },
         "xaxis": "x",
         "y": {
          "bdata": "x4CSsqwJx7+kRbyeHrbTv7x0lwPeEKM/DQ3iPMEr4D9B9/kk6CfcP40SNnxYJdy/ieL9jfCi178qewijtyHUPw==",
          "dtype": "f8"
         },
         "yaxis": "y"
        }
       ],
       "layout": {
        "legend": {
         "tracegroupgap": 0
        },
        "margin": {
         "t": 60
        },
        "template": {
         "data": {
          "bar": [
           {
            "error_x": {
             "color": "#2a3f5f"
            },
            "error_y": {
             "color": "#2a3f5f"
            },
            "marker": {
             "line": {
              "color": "#E5ECF6",
              "width": 0.5
             },
             "pattern": {
              "fillmode": "overlay",
              "size": 10,
              "solidity": 0.2
             }
            },
            "type": "bar"
           }
          ],
          "barpolar": [
           {
            "marker": {
             "line": {
              "color": "#E5ECF6",
              "width": 0.5
             },
             "pattern": {
              "fillmode": "overlay",
              "size": 10,
              "solidity": 0.2
             }
            },
            "type": "barpolar"
           }
          ],
          "carpet": [
           {
            "aaxis": {
             "endlinecolor": "#2a3f5f",
             "gridcolor": "white",
             "linecolor": "white",
             "minorgridcolor": "white",
             "startlinecolor": "#2a3f5f"
            },
            "baxis": {
             "endlinecolor": "#2a3f5f",
             "gridcolor": "white",
             "linecolor": "white",
             "minorgridcolor": "white",
             "startlinecolor": "#2a3f5f"
            },
            "type": "carpet"
           }
          ],
          "choropleth": [
           {
            "colorbar": {
             "outlinewidth": 0,
             "ticks": ""
            },
            "type": "choropleth"
           }
          ],
          "contour": [
           {
            "colorbar": {
             "outlinewidth": 0,
             "ticks": ""
            },
            "colorscale": [
             [
              0,
              "#0d0887"
             ],
             [
              0.1111111111111111,
              "#46039f"
             ],
             [
              0.2222222222222222,
              "#7201a8"
             ],
             [
              0.3333333333333333,
              "#9c179e"
             ],
             [
              0.4444444444444444,
              "#bd3786"
             ],
             [
              0.5555555555555556,
              "#d8576b"
             ],
             [
              0.6666666666666666,
              "#ed7953"
             ],
             [
              0.7777777777777778,
              "#fb9f3a"
             ],
             [
              0.8888888888888888,
              "#fdca26"
             ],
             [
              1,
              "#f0f921"
             ]
            ],
            "type": "contour"
           }
          ],
          "contourcarpet": [
           {
            "colorbar": {
             "outlinewidth": 0,
             "ticks": ""
            },
            "type": "contourcarpet"
           }
          ],
          "heatmap": [
           {
            "colorbar": {
             "outlinewidth": 0,
             "ticks": ""
            },
            "colorscale": [
             [
              0,
              "#0d0887"
             ],
             [
              0.1111111111111111,
              "#46039f"
             ],
             [
              0.2222222222222222,
              "#7201a8"
             ],
             [
              0.3333333333333333,
              "#9c179e"
             ],
             [
              0.4444444444444444,
              "#bd3786"
             ],
             [
              0.5555555555555556,
              "#d8576b"
             ],
             [
              0.6666666666666666,
              "#ed7953"
             ],
             [
              0.7777777777777778,
              "#fb9f3a"
             ],
             [
              0.8888888888888888,
              "#fdca26"
             ],
             [
              1,
              "#f0f921"
             ]
            ],
            "type": "heatmap"
           }
          ],
          "histogram": [
           {
            "marker": {
             "pattern": {
              "fillmode": "overlay",
              "size": 10,
              "solidity": 0.2
             }
            },
            "type": "histogram"
           }
          ],
          "histogram2d": [
           {
            "colorbar": {
             "outlinewidth": 0,
             "ticks": ""
            },
            "colorscale": [
             [
              0,
              "#0d0887"
             ],
             [
              0.1111111111111111,
              "#46039f"
             ],
             [
              0.2222222222222222,
              "#7201a8"
             ],
             [
              0.3333333333333333,
              "#9c179e"
             ],
             [
              0.4444444444444444,
              "#bd3786"
             ],
             [
              0.5555555555555556,
              "#d8576b"
             ],
             [
              0.6666666666666666,
              "#ed7953"
             ],
             [
              0.7777777777777778,
              "#fb9f3a"
             ],
             [
              0.8888888888888888,
              "#fdca26"
             ],
             [
              1,
              "#f0f921"
             ]
            ],
            "type": "histogram2d"
           }
          ],
          "histogram2dcontour": [
           {
            "colorbar": {
             "outlinewidth": 0,
             "ticks": ""
            },
            "colorscale": [
             [
              0,
              "#0d0887"
             ],
             [
              0.1111111111111111,
              "#46039f"
             ],
             [
              0.2222222222222222,
              "#7201a8"
             ],
             [
              0.3333333333333333,
              "#9c179e"
             ],
             [
              0.4444444444444444,
              "#bd3786"
             ],
             [
              0.5555555555555556,
              "#d8576b"
             ],
             [
              0.6666666666666666,
              "#ed7953"
             ],
             [
              0.7777777777777778,
              "#fb9f3a"
             ],
             [
              0.8888888888888888,
              "#fdca26"
             ],
             [
              1,
              "#f0f921"
             ]
            ],
            "type": "histogram2dcontour"
           }
          ],
          "mesh3d": [
           {
            "colorbar": {
             "outlinewidth": 0,
             "ticks": ""
            },
            "type": "mesh3d"
           }
          ],
          "parcoords": [
           {
            "line": {
             "colorbar": {
              "outlinewidth": 0,
              "ticks": ""
             }
            },
            "type": "parcoords"
           }
          ],
          "pie": [
           {
            "automargin": true,
            "type": "pie"
           }
          ],
          "scatter": [
           {
            "fillpattern": {
             "fillmode": "overlay",
             "size": 10,
             "solidity": 0.2
            },
            "type": "scatter"
           }
          ],
          "scatter3d": [
           {
            "line": {
             "colorbar": {
              "outlinewidth": 0,
              "ticks": ""
             }
            },
            "marker": {
             "colorbar": {
              "outlinewidth": 0,
              "ticks": ""
             }
            },
            "type": "scatter3d"
           }
          ],
          "scattercarpet": [
           {
            "marker": {
             "colorbar": {
              "outlinewidth": 0,
              "ticks": ""
             }
            },
            "type": "scattercarpet"
           }
          ],
          "scattergeo": [
           {
            "marker": {
             "colorbar": {
              "outlinewidth": 0,
              "ticks": ""
             }
            },
            "type": "scattergeo"
           }
          ],
          "scattergl": [
           {
            "marker": {
             "colorbar": {
              "outlinewidth": 0,
              "ticks": ""
             }
            },
            "type": "scattergl"
           }
          ],
          "scattermap": [
           {
            "marker": {
             "colorbar": {
              "outlinewidth": 0,
              "ticks": ""
             }
            },
            "type": "scattermap"
           }
          ],
          "scattermapbox": [
           {
            "marker": {
             "colorbar": {
              "outlinewidth": 0,
              "ticks": ""
             }
            },
            "type": "scattermapbox"
           }
          ],
          "scatterpolar": [
           {
            "marker": {
             "colorbar": {
              "outlinewidth": 0,
              "ticks": ""
             }
            },
            "type": "scatterpolar"
           }
          ],
          "scatterpolargl": [
           {
            "marker": {
             "colorbar": {
              "outlinewidth": 0,
              "ticks": ""
             }
            },
            "type": "scatterpolargl"
           }
          ],
          "scatterternary": [
           {
            "marker": {
             "colorbar": {
              "outlinewidth": 0,
              "ticks": ""
             }
            },
            "type": "scatterternary"
           }
          ],
          "surface": [
           {
            "colorbar": {
             "outlinewidth": 0,
             "ticks": ""
            },
            "colorscale": [
             [
              0,
              "#0d0887"
             ],
             [
              0.1111111111111111,
              "#46039f"
             ],
             [
              0.2222222222222222,
              "#7201a8"
             ],
             [
              0.3333333333333333,
              "#9c179e"
             ],
             [
              0.4444444444444444,
              "#bd3786"
             ],
             [
              0.5555555555555556,
              "#d8576b"
             ],
             [
              0.6666666666666666,
              "#ed7953"
             ],
             [
              0.7777777777777778,
              "#fb9f3a"
             ],
             [
              0.8888888888888888,
              "#fdca26"
             ],
             [
              1,
              "#f0f921"
             ]
            ],
            "type": "surface"
           }
          ],
          "table": [
           {
            "cells": {
             "fill": {
              "color": "#EBF0F8"
             },
             "line": {
              "color": "white"
             }
            },
            "header": {
             "fill": {
              "color": "#C8D4E3"
             },
             "line": {
              "color": "white"
             }
            },
            "type": "table"
           }
          ]
         },
         "layout": {
          "annotationdefaults": {
           "arrowcolor": "#2a3f5f",
           "arrowhead": 0,
           "arrowwidth": 1
          },
          "autotypenumbers": "strict",
          "coloraxis": {
           "colorbar": {
            "outlinewidth": 0,
            "ticks": ""
           }
          },
          "colorscale": {
           "diverging": [
            [
             0,
             "#8e0152"
            ],
            [
             0.1,
             "#c51b7d"
            ],
            [
             0.2,
             "#de77ae"
            ],
            [
             0.3,
             "#f1b6da"
            ],
            [
             0.4,
             "#fde0ef"
            ],
            [
             0.5,
             "#f7f7f7"
            ],
            [
             0.6,
             "#e6f5d0"
            ],
            [
             0.7,
             "#b8e186"
            ],
            [
             0.8,
             "#7fbc41"
            ],
            [
             0.9,
             "#4d9221"
            ],
            [
             1,
             "#276419"
            ]
           ],
           "sequential": [
            [
             0,
             "#0d0887"
            ],
            [
             0.1111111111111111,
             "#46039f"
            ],
            [
             0.2222222222222222,
             "#7201a8"
            ],
            [
             0.3333333333333333,
             "#9c179e"
            ],
            [
             0.4444444444444444,
             "#bd3786"
            ],
            [
             0.5555555555555556,
             "#d8576b"
            ],
            [
             0.6666666666666666,
             "#ed7953"
            ],
            [
             0.7777777777777778,
             "#fb9f3a"
            ],
            [
             0.8888888888888888,
             "#fdca26"
            ],
            [
             1,
             "#f0f921"
            ]
           ],
           "sequentialminus": [
            [
             0,
             "#0d0887"
            ],
            [
             0.1111111111111111,
             "#46039f"
            ],
            [
             0.2222222222222222,
             "#7201a8"
            ],
            [
             0.3333333333333333,
             "#9c179e"
            ],
            [
             0.4444444444444444,
             "#bd3786"
            ],
            [
             0.5555555555555556,
             "#d8576b"
            ],
            [
             0.6666666666666666,
             "#ed7953"
            ],
            [
             0.7777777777777778,
             "#fb9f3a"
            ],
            [
             0.8888888888888888,
             "#fdca26"
            ],
            [
             1,
             "#f0f921"
            ]
           ]
          },
          "colorway": [
           "#636efa",
           "#EF553B",
           "#00cc96",
           "#ab63fa",
           "#FFA15A",
           "#19d3f3",
           "#FF6692",
           "#B6E880",
           "#FF97FF",
           "#FECB52"
          ],
          "font": {
           "color": "#2a3f5f"
          },
          "geo": {
           "bgcolor": "white",
           "lakecolor": "white",
           "landcolor": "#E5ECF6",
           "showlakes": true,
           "showland": true,
           "subunitcolor": "white"
          },
          "hoverlabel": {
           "align": "left"
          },
          "hovermode": "closest",
          "mapbox": {
           "style": "light"
          },
          "paper_bgcolor": "white",
          "plot_bgcolor": "#E5ECF6",
          "polar": {
           "angularaxis": {
            "gridcolor": "white",
            "linecolor": "white",
            "ticks": ""
           },
           "bgcolor": "#E5ECF6",
           "radialaxis": {
            "gridcolor": "white",
            "linecolor": "white",
            "ticks": ""
           }
          },
          "scene": {
           "xaxis": {
            "backgroundcolor": "#E5ECF6",
            "gridcolor": "white",
            "gridwidth": 2,
            "linecolor": "white",
            "showbackground": true,
            "ticks": "",
            "zerolinecolor": "white"
           },
           "yaxis": {
            "backgroundcolor": "#E5ECF6",
            "gridcolor": "white",
            "gridwidth": 2,
            "linecolor": "white",
            "showbackground": true,
            "ticks": "",
            "zerolinecolor": "white"
           },
           "zaxis": {
            "backgroundcolor": "#E5ECF6",
            "gridcolor": "white",
            "gridwidth": 2,
            "linecolor": "white",
            "showbackground": true,
            "ticks": "",
            "zerolinecolor": "white"
           }
          },
          "shapedefaults": {
           "line": {
            "color": "#2a3f5f"
           }
          },
          "ternary": {
           "aaxis": {
            "gridcolor": "white",
            "linecolor": "white",
            "ticks": ""
           },
           "baxis": {
            "gridcolor": "white",
            "linecolor": "white",
            "ticks": ""
           },
           "bgcolor": "#E5ECF6",
           "caxis": {
            "gridcolor": "white",
            "linecolor": "white",
            "ticks": ""
           }
          },
          "title": {
           "x": 0.05
          },
          "xaxis": {
           "automargin": true,
           "gridcolor": "white",
           "linecolor": "white",
           "ticks": "",
           "title": {
            "standoff": 15
           },
           "zerolinecolor": "white",
           "zerolinewidth": 2
          },
          "yaxis": {
           "automargin": true,
           "gridcolor": "white",
           "linecolor": "white",
           "ticks": "",
           "title": {
            "standoff": 15
           },
           "zerolinecolor": "white",
           "zerolinewidth": 2
          }
         }
        },
        "xaxis": {
         "anchor": "y",
         "domain": [
          0,
          1
         ],
         "title": {
          "text": "x"
         }
        },
        "yaxis": {
         "anchor": "x",
         "domain": [
          0,
          1
         ],
         "title": {
          "text": "y"
         }
        }
       }
      }
     },
     "metadata": {},
     "output_type": "display_data"
    }
   ],
   "source": [
    "from sklearn.decomposition import PCA\n",
    "import matplotlib.pyplot as plt\n",
    "#import mplcursors\n",
    "#%matplotlib ipympl\n",
    "\n",
    "# Perform PCA for 2D visualization\n",
    "PCA_model = PCA(n_components = 2)\n",
    "PCA_model.fit(embeddings_array)\n",
    "new_values = PCA_model.transform(embeddings_array)\n",
    "\n",
    "new_values\n",
    "import plotly.express as px\n",
    "fig = px.scatter(x=new_values[:,0], y= new_values[:,1], text=input_text_lst_news)\n",
    "fig.update_traces(textposition=\"bottom right\")\n",
    "fig.show()\n",
    "\n"
   ]
  },
  {
   "cell_type": "code",
   "execution_count": 101,
   "metadata": {},
   "outputs": [
    {
     "data": {
      "text/plain": [
       "<matplotlib.image.AxesImage at 0x78dc7343b160>"
      ]
     },
     "execution_count": 101,
     "metadata": {},
     "output_type": "execute_result"
    },
    {
     "data": {
      "image/png": "[encoded data removed]",
      "text/plain": [
       "<Figure size 2000x500 with 1 Axes>"
      ]
     },
     "metadata": {},
     "output_type": "display_data"
    }
   ],
   "source": [
    "data = embeddings_array[:, 0:100] - 0.5 \n",
    "plt.figure(figsize=(20, 5))\n",
    "plt.imshow(data, cmap='seismic',  aspect='auto')\n"
   ]
  },
  {
   "cell_type": "code",
   "execution_count": 102,
   "metadata": {},
   "outputs": [
    {
     "data": {
      "application/vnd.plotly.v1+json": {
       "config": {
        "plotlyServerURL": "https://plot.ly"
       },
       "data": [
        {
         "mode": "lines+markers",
         "name": "Embedding 1",
         "type": "scatter",
         "x": [
          0,
          1,
          2,
          3,
          4,
          5,
          6,
          7,
          8,
          9,
          10,
          11,
          12,
          13,
          14,
          15,
          16,
          17,
          18,
          19,
          20,
          21,
          22,
          23,
          24,
          25,
          26,
          27,
          28,
          29,
          30,
          31,
          32,
          33,
          34,
          35,
          36,
          37,
          38,
          39,
          40,
          41,
          42,
          43,
          44,
          45,
          46,
          47,
          48,
          49,
          50,
          51,
          52,
          53,
          54,
          55,
          56,
          57,
          58,
          59,
          60,
          61,
          62,
          63,
          64,
          65,
          66,
          67,
          68,
          69,
          70,
          71,
          72,
          73,
          74,
          75,
          76,
          77,
          78,
          79,
          80,
          81,
          82,
          83,
          84,
          85,
          86,
          87,
          88,
          89,
          90,
          91,
          92,
          93,
          94,
          95,
          96,
          97,
          98,
          99,
          100,
          101,
          102,
          103,
          104,
          105,
          106,
          107,
          108,
          109,
          110,
          111,
          112,
          113,
          114,
          115,
          116,
          117,
          118,
          119,
          120,
          121,
          122,
          123,
          124,
          125,
          126,
          127,
          128,
          129,
          130,
          131,
          132,
          133,
          134,
          135,
          136,
          137,
          138,
          139,
          140,
          141,
          142,
          143,
          144,
          145,
          146,
          147,
          148,
          149,
          150,
          151,
          152,
          153,
          154,
          155,
          156,
          157,
          158,
          159,
          160,
          161,
          162,
          163,
          164,
          165,
          166,
          167,
          168,
          169,
          170,
          171,
          172,
          173,
          174,
          175,
          176,
          177,
          178,
          179,
          180,
          181,
          182,
          183,
          184,
          185,
          186,
          187,
          188,
          189,
          190,
          191,
          192,
          193,
          194,
          195,
          196,
          197,
          198,
          199,
          200,
          201,
          202,
          203,
          204,
          205,
          206,
          207,
          208,
          209,
          210,
          211,
          212,
          213,
          214,
          215,
          216,
          217,
          218,
          219,
          220,
          221,
          222,
          223,
          224,
          225,
          226,
          227,
          228,
          229,
          230,
          231,
          232,
          233,
          234,
          235,
          236,
          237,
          238,
          239,
          240,
          241,
          242,
          243,
          244,
          245,
          246,
          247,
          248,
          249,
          250,
          251,
          252,
          253,
          254,
          255
         ],
         "y": {
          "bdata": "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",
          "dtype": "f8"
         }
        },
        {
         "mode": "lines+markers",
         "name": "Embedding 2",
         "type": "scatter",
         "x": [
          0,
          1,
          2,
          3,
          4,
          5,
          6,
          7,
          8,
          9,
          10,
          11,
          12,
          13,
          14,
          15,
          16,
          17,
          18,
          19,
          20,
          21,
          22,
          23,
          24,
          25,
          26,
          27,
          28,
          29,
          30,
          31,
          32,
          33,
          34,
          35,
          36,
          37,
          38,
          39,
          40,
          41,
          42,
          43,
          44,
          45,
          46,
          47,
          48,
          49,
          50,
          51,
          52,
          53,
          54,
          55,
          56,
          57,
          58,
          59,
          60,
          61,
          62,
          63,
          64,
          65,
          66,
          67,
          68,
          69,
          70,
          71,
          72,
          73,
          74,
          75,
          76,
          77,
          78,
          79,
          80,
          81,
          82,
          83,
          84,
          85,
          86,
          87,
          88,
          89,
          90,
          91,
          92,
          93,
          94,
          95,
          96,
          97,
          98,
          99,
          100,
          101,
          102,
          103,
          104,
          105,
          106,
          107,
          108,
          109,
          110,
          111,
          112,
          113,
          114,
          115,
          116,
          117,
          118,
          119,
          120,
          121,
          122,
          123,
          124,
          125,
          126,
          127,
          128,
          129,
          130,
          131,
          132,
          133,
          134,
          135,
          136,
          137,
          138,
          139,
          140,
          141,
          142,
          143,
          144,
          145,
          146,
          147,
          148,
          149,
          150,
          151,
          152,
          153,
          154,
          155,
          156,
          157,
          158,
          159,
          160,
          161,
          162,
          163,
          164,
          165,
          166,
          167,
          168,
          169,
          170,
          171,
          172,
          173,
          174,
          175,
          176,
          177,
          178,
          179,
          180,
          181,
          182,
          183,
          184,
          185,
          186,
          187,
          188,
          189,
          190,
          191,
          192,
          193,
          194,
          195,
          196,
          197,
          198,
          199,
          200,
          201,
          202,
          203,
          204,
          205,
          206,
          207,
          208,
          209,
          210,
          211,
          212,
          213,
          214,
          215,
          216,
          217,
          218,
          219,
          220,
          221,
          222,
          223,
          224,
          225,
          226,
          227,
          228,
          229,
          230,
          231,
          232,
          233,
          234,
          235,
          236,
          237,
          238,
          239,
          240,
          241,
          242,
          243,
          244,
          245,
          246,
          247,
          248,
          249,
          250,
          251,
          252,
          253,
          254,
          255
         ],
         "y": {
          "bdata": "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",
          "dtype": "f8"
         }
        },
        {
         "mode": "lines+markers",
         "name": "Embedding 3",
         "type": "scatter",
         "x": [
          0,
          1,
          2,
          3,
          4,
          5,
          6,
          7,
          8,
          9,
          10,
          11,
          12,
          13,
          14,
          15,
          16,
          17,
          18,
          19,
          20,
          21,
          22,
          23,
          24,
          25,
          26,
          27,
          28,
          29,
          30,
          31,
          32,
          33,
          34,
          35,
          36,
          37,
          38,
          39,
          40,
          41,
          42,
          43,
          44,
          45,
          46,
          47,
          48,
          49,
          50,
          51,
          52,
          53,
          54,
          55,
          56,
          57,
          58,
          59,
          60,
          61,
          62,
          63,
          64,
          65,
          66,
          67,
          68,
          69,
          70,
          71,
          72,
          73,
          74,
          75,
          76,
          77,
          78,
          79,
          80,
          81,
          82,
          83,
          84,
          85,
          86,
          87,
          88,
          89,
          90,
          91,
          92,
          93,
          94,
          95,
          96,
          97,
          98,
          99,
          100,
          101,
          102,
          103,
          104,
          105,
          106,
          107,
          108,
          109,
          110,
          111,
          112,
          113,
          114,
          115,
          116,
          117,
          118,
          119,
          120,
          121,
          122,
          123,
          124,
          125,
          126,
          127,
          128,
          129,
          130,
          131,
          132,
          133,
          134,
          135,
          136,
          137,
          138,
          139,
          140,
          141,
          142,
          143,
          144,
          145,
          146,
          147,
          148,
          149,
          150,
          151,
          152,
          153,
          154,
          155,
          156,
          157,
          158,
          159,
          160,
          161,
          162,
          163,
          164,
          165,
          166,
          167,
          168,
          169,
          170,
          171,
          172,
          173,
          174,
          175,
          176,
          177,
          178,
          179,
          180,
          181,
          182,
          183,
          184,
          185,
          186,
          187,
          188,
          189,
          190,
          191,
          192,
          193,
          194,
          195,
          196,
          197,
          198,
          199,
          200,
          201,
          202,
          203,
          204,
          205,
          206,
          207,
          208,
          209,
          210,
          211,
          212,
          213,
          214,
          215,
          216,
          217,
          218,
          219,
          220,
          221,
          222,
          223,
          224,
          225,
          226,
          227,
          228,
          229,
          230,
          231,
          232,
          233,
          234,
          235,
          236,
          237,
          238,
          239,
          240,
          241,
          242,
          243,
          244,
          245,
          246,
          247,
          248,
          249,
          250,
          251,
          252,
          253,
          254,
          255
         ],
         "y": {
          "bdata": "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",
          "dtype": "f8"
         }
        },
        {
         "mode": "lines+markers",
         "name": "Embedding 4",
         "type": "scatter",
         "x": [
          0,
          1,
          2,
          3,
          4,
          5,
          6,
          7,
          8,
          9,
          10,
          11,
          12,
          13,
          14,
          15,
          16,
          17,
          18,
          19,
          20,
          21,
          22,
          23,
          24,
          25,
          26,
          27,
          28,
          29,
          30,
          31,
          32,
          33,
          34,
          35,
          36,
          37,
          38,
          39,
          40,
          41,
          42,
          43,
          44,
          45,
          46,
          47,
          48,
          49,
          50,
          51,
          52,
          53,
          54,
          55,
          56,
          57,
          58,
          59,
          60,
          61,
          62,
          63,
          64,
          65,
          66,
          67,
          68,
          69,
          70,
          71,
          72,
          73,
          74,
          75,
          76,
          77,
          78,
          79,
          80,
          81,
          82,
          83,
          84,
          85,
          86,
          87,
          88,
          89,
          90,
          91,
          92,
          93,
          94,
          95,
          96,
          97,
          98,
          99,
          100,
          101,
          102,
          103,
          104,
          105,
          106,
          107,
          108,
          109,
          110,
          111,
          112,
          113,
          114,
          115,
          116,
          117,
          118,
          119,
          120,
          121,
          122,
          123,
          124,
          125,
          126,
          127,
          128,
          129,
          130,
          131,
          132,
          133,
          134,
          135,
          136,
          137,
          138,
          139,
          140,
          141,
          142,
          143,
          144,
          145,
          146,
          147,
          148,
          149,
          150,
          151,
          152,
          153,
          154,
          155,
          156,
          157,
          158,
          159,
          160,
          161,
          162,
          163,
          164,
          165,
          166,
          167,
          168,
          169,
          170,
          171,
          172,
          173,
          174,
          175,
          176,
          177,
          178,
          179,
          180,
          181,
          182,
          183,
          184,
          185,
          186,
          187,
          188,
          189,
          190,
          191,
          192,
          193,
          194,
          195,
          196,
          197,
          198,
          199,
          200,
          201,
          202,
          203,
          204,
          205,
          206,
          207,
          208,
          209,
          210,
          211,
          212,
          213,
          214,
          215,
          216,
          217,
          218,
          219,
          220,
          221,
          222,
          223,
          224,
          225,
          226,
          227,
          228,
          229,
          230,
          231,
          232,
          233,
          234,
          235,
          236,
          237,
          238,
          239,
          240,
          241,
          242,
          243,
          244,
          245,
          246,
          247,
          248,
          249,
          250,
          251,
          252,
          253,
          254,
          255
         ],
         "y": {
          "bdata": "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",
          "dtype": "f8"
         }
        },
        {
         "mode": "lines+markers",
         "name": "Embedding 5",
         "type": "scatter",
         "x": [
          0,
          1,
          2,
          3,
          4,
          5,
          6,
          7,
          8,
          9,
          10,
          11,
          12,
          13,
          14,
          15,
          16,
          17,
          18,
          19,
          20,
          21,
          22,
          23,
          24,
          25,
          26,
          27,
          28,
          29,
          30,
          31,
          32,
          33,
          34,
          35,
          36,
          37,
          38,
          39,
          40,
          41,
          42,
          43,
          44,
          45,
          46,
          47,
          48,
          49,
          50,
          51,
          52,
          53,
          54,
          55,
          56,
          57,
          58,
          59,
          60,
          61,
          62,
          63,
          64,
          65,
          66,
          67,
          68,
          69,
          70,
          71,
          72,
          73,
          74,
          75,
          76,
          77,
          78,
          79,
          80,
          81,
          82,
          83,
          84,
          85,
          86,
          87,
          88,
          89,
          90,
          91,
          92,
          93,
          94,
          95,
          96,
          97,
          98,
          99,
          100,
          101,
          102,
          103,
          104,
          105,
          106,
          107,
          108,
          109,
          110,
          111,
          112,
          113,
          114,
          115,
          116,
          117,
          118,
          119,
          120,
          121,
          122,
          123,
          124,
          125,
          126,
          127,
          128,
          129,
          130,
          131,
          132,
          133,
          134,
          135,
          136,
          137,
          138,
          139,
          140,
          141,
          142,
          143,
          144,
          145,
          146,
          147,
          148,
          149,
          150,
          151,
          152,
          153,
          154,
          155,
          156,
          157,
          158,
          159,
          160,
          161,
          162,
          163,
          164,
          165,
          166,
          167,
          168,
          169,
          170,
          171,
          172,
          173,
          174,
          175,
          176,
          177,
          178,
          179,
          180,
          181,
          182,
          183,
          184,
          185,
          186,
          187,
          188,
          189,
          190,
          191,
          192,
          193,
          194,
          195,
          196,
          197,
          198,
          199,
          200,
          201,
          202,
          203,
          204,
          205,
          206,
          207,
          208,
          209,
          210,
          211,
          212,
          213,
          214,
          215,
          216,
          217,
          218,
          219,
          220,
          221,
          222,
          223,
          224,
          225,
          226,
          227,
          228,
          229,
          230,
          231,
          232,
          233,
          234,
          235,
          236,
          237,
          238,
          239,
          240,
          241,
          242,
          243,
          244,
          245,
          246,
          247,
          248,
          249,
          250,
          251,
          252,
          253,
          254,
          255
         ],
         "y": {
          "bdata": "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",
          "dtype": "f8"
         }
        },
        {
         "mode": "lines+markers",
         "name": "Embedding 6",
         "type": "scatter",
         "x": [
          0,
          1,
          2,
          3,
          4,
          5,
          6,
          7,
          8,
          9,
          10,
          11,
          12,
          13,
          14,
          15,
          16,
          17,
          18,
          19,
          20,
          21,
          22,
          23,
          24,
          25,
          26,
          27,
          28,
          29,
          30,
          31,
          32,
          33,
          34,
          35,
          36,
          37,
          38,
          39,
          40,
          41,
          42,
          43,
          44,
          45,
          46,
          47,
          48,
          49,
          50,
          51,
          52,
          53,
          54,
          55,
          56,
          57,
          58,
          59,
          60,
          61,
          62,
          63,
          64,
          65,
          66,
          67,
          68,
          69,
          70,
          71,
          72,
          73,
          74,
          75,
          76,
          77,
          78,
          79,
          80,
          81,
          82,
          83,
          84,
          85,
          86,
          87,
          88,
          89,
          90,
          91,
          92,
          93,
          94,
          95,
          96,
          97,
          98,
          99,
          100,
          101,
          102,
          103,
          104,
          105,
          106,
          107,
          108,
          109,
          110,
          111,
          112,
          113,
          114,
          115,
          116,
          117,
          118,
          119,
          120,
          121,
          122,
          123,
          124,
          125,
          126,
          127,
          128,
          129,
          130,
          131,
          132,
          133,
          134,
          135,
          136,
          137,
          138,
          139,
          140,
          141,
          142,
          143,
          144,
          145,
          146,
          147,
          148,
          149,
          150,
          151,
          152,
          153,
          154,
          155,
          156,
          157,
          158,
          159,
          160,
          161,
          162,
          163,
          164,
          165,
          166,
          167,
          168,
          169,
          170,
          171,
          172,
          173,
          174,
          175,
          176,
          177,
          178,
          179,
          180,
          181,
          182,
          183,
          184,
          185,
          186,
          187,
          188,
          189,
          190,
          191,
          192,
          193,
          194,
          195,
          196,
          197,
          198,
          199,
          200,
          201,
          202,
          203,
          204,
          205,
          206,
          207,
          208,
          209,
          210,
          211,
          212,
          213,
          214,
          215,
          216,
          217,
          218,
          219,
          220,
          221,
          222,
          223,
          224,
          225,
          226,
          227,
          228,
          229,
          230,
          231,
          232,
          233,
          234,
          235,
          236,
          237,
          238,
          239,
          240,
          241,
          242,
          243,
          244,
          245,
          246,
          247,
          248,
          249,
          250,
          251,
          252,
          253,
          254,
          255
         ],
         "y": {
          "bdata": "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",
          "dtype": "f8"
         }
        },
        {
         "mode": "lines+markers",
         "name": "Embedding 7",
         "type": "scatter",
         "x": [
          0,
          1,
          2,
          3,
          4,
          5,
          6,
          7,
          8,
          9,
          10,
          11,
          12,
          13,
          14,
          15,
          16,
          17,
          18,
          19,
          20,
          21,
          22,
          23,
          24,
          25,
          26,
          27,
          28,
          29,
          30,
          31,
          32,
          33,
          34,
          35,
          36,
          37,
          38,
          39,
          40,
          41,
          42,
          43,
          44,
          45,
          46,
          47,
          48,
          49,
          50,
          51,
          52,
          53,
          54,
          55,
          56,
          57,
          58,
          59,
          60,
          61,
          62,
          63,
          64,
          65,
          66,
          67,
          68,
          69,
          70,
          71,
          72,
          73,
          74,
          75,
          76,
          77,
          78,
          79,
          80,
          81,
          82,
          83,
          84,
          85,
          86,
          87,
          88,
          89,
          90,
          91,
          92,
          93,
          94,
          95,
          96,
          97,
          98,
          99,
          100,
          101,
          102,
          103,
          104,
          105,
          106,
          107,
          108,
          109,
          110,
          111,
          112,
          113,
          114,
          115,
          116,
          117,
          118,
          119,
          120,
          121,
          122,
          123,
          124,
          125,
          126,
          127,
          128,
          129,
          130,
          131,
          132,
          133,
          134,
          135,
          136,
          137,
          138,
          139,
          140,
          141,
          142,
          143,
          144,
          145,
          146,
          147,
          148,
          149,
          150,
          151,
          152,
          153,
          154,
          155,
          156,
          157,
          158,
          159,
          160,
          161,
          162,
          163,
          164,
          165,
          166,
          167,
          168,
          169,
          170,
          171,
          172,
          173,
          174,
          175,
          176,
          177,
          178,
          179,
          180,
          181,
          182,
          183,
          184,
          185,
          186,
          187,
          188,
          189,
          190,
          191,
          192,
          193,
          194,
          195,
          196,
          197,
          198,
          199,
          200,
          201,
          202,
          203,
          204,
          205,
          206,
          207,
          208,
          209,
          210,
          211,
          212,
          213,
          214,
          215,
          216,
          217,
          218,
          219,
          220,
          221,
          222,
          223,
          224,
          225,
          226,
          227,
          228,
          229,
          230,
          231,
          232,
          233,
          234,
          235,
          236,
          237,
          238,
          239,
          240,
          241,
          242,
          243,
          244,
          245,
          246,
          247,
          248,
          249,
          250,
          251,
          252,
          253,
          254,
          255
         ],
         "y": {
          "bdata": "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",
          "dtype": "f8"
         }
        },
        {
         "mode": "lines+markers",
         "name": "Embedding 8",
         "type": "scatter",
         "x": [
          0,
          1,
          2,
          3,
          4,
          5,
          6,
          7,
          8,
          9,
          10,
          11,
          12,
          13,
          14,
          15,
          16,
          17,
          18,
          19,
          20,
          21,
          22,
          23,
          24,
          25,
          26,
          27,
          28,
          29,
          30,
          31,
          32,
          33,
          34,
          35,
          36,
          37,
          38,
          39,
          40,
          41,
          42,
          43,
          44,
          45,
          46,
          47,
          48,
          49,
          50,
          51,
          52,
          53,
          54,
          55,
          56,
          57,
          58,
          59,
          60,
          61,
          62,
          63,
          64,
          65,
          66,
          67,
          68,
          69,
          70,
          71,
          72,
          73,
          74,
          75,
          76,
          77,
          78,
          79,
          80,
          81,
          82,
          83,
          84,
          85,
          86,
          87,
          88,
          89,
          90,
          91,
          92,
          93,
          94,
          95,
          96,
          97,
          98,
          99,
          100,
          101,
          102,
          103,
          104,
          105,
          106,
          107,
          108,
          109,
          110,
          111,
          112,
          113,
          114,
          115,
          116,
          117,
          118,
          119,
          120,
          121,
          122,
          123,
          124,
          125,
          126,
          127,
          128,
          129,
          130,
          131,
          132,
          133,
          134,
          135,
          136,
          137,
          138,
          139,
          140,
          141,
          142,
          143,
          144,
          145,
          146,
          147,
          148,
          149,
          150,
          151,
          152,
          153,
          154,
          155,
          156,
          157,
          158,
          159,
          160,
          161,
          162,
          163,
          164,
          165,
          166,
          167,
          168,
          169,
          170,
          171,
          172,
          173,
          174,
          175,
          176,
          177,
          178,
          179,
          180,
          181,
          182,
          183,
          184,
          185,
          186,
          187,
          188,
          189,
          190,
          191,
          192,
          193,
          194,
          195,
          196,
          197,
          198,
          199,
          200,
          201,
          202,
          203,
          204,
          205,
          206,
          207,
          208,
          209,
          210,
          211,
          212,
          213,
          214,
          215,
          216,
          217,
          218,
          219,
          220,
          221,
          222,
          223,
          224,
          225,
          226,
          227,
          228,
          229,
          230,
          231,
          232,
          233,
          234,
          235,
          236,
          237,
          238,
          239,
          240,
          241,
          242,
          243,
          244,
          245,
          246,
          247,
          248,
          249,
          250,
          251,
          252,
          253,
          254,
          255
         ],
         "y": {
          "bdata": "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",
          "dtype": "f8"
         }
        }
       ],
       "layout": {
        "height": 400,
        "legend": {
         "title": {
          "text": "Embeddings"
         }
        },
        "template": {
         "data": {
          "bar": [
           {
            "error_x": {
             "color": "#2a3f5f"
            },
            "error_y": {
             "color": "#2a3f5f"
            },
            "marker": {
             "line": {
              "color": "#E5ECF6",
              "width": 0.5
             },
             "pattern": {
              "fillmode": "overlay",
              "size": 10,
              "solidity": 0.2
             }
            },
            "type": "bar"
           }
          ],
          "barpolar": [
           {
            "marker": {
             "line": {
              "color": "#E5ECF6",
              "width": 0.5
             },
             "pattern": {
              "fillmode": "overlay",
              "size": 10,
              "solidity": 0.2
             }
            },
            "type": "barpolar"
           }
          ],
          "carpet": [
           {
            "aaxis": {
             "endlinecolor": "#2a3f5f",
             "gridcolor": "white",
             "linecolor": "white",
             "minorgridcolor": "white",
             "startlinecolor": "#2a3f5f"
            },
            "baxis": {
             "endlinecolor": "#2a3f5f",
             "gridcolor": "white",
             "linecolor": "white",
             "minorgridcolor": "white",
             "startlinecolor": "#2a3f5f"
            },
            "type": "carpet"
           }
          ],
          "choropleth": [
           {
            "colorbar": {
             "outlinewidth": 0,
             "ticks": ""
            },
            "type": "choropleth"
           }
          ],
          "contour": [
           {
            "colorbar": {
             "outlinewidth": 0,
             "ticks": ""
            },
            "colorscale": [
             [
              0,
              "#0d0887"
             ],
             [
              0.1111111111111111,
              "#46039f"
             ],
             [
              0.2222222222222222,
              "#7201a8"
             ],
             [
              0.3333333333333333,
              "#9c179e"
             ],
             [
              0.4444444444444444,
              "#bd3786"
             ],
             [
              0.5555555555555556,
              "#d8576b"
             ],
             [
              0.6666666666666666,
              "#ed7953"
             ],
             [
              0.7777777777777778,
              "#fb9f3a"
             ],
             [
              0.8888888888888888,
              "#fdca26"
             ],
             [
              1,
              "#f0f921"
             ]
            ],
            "type": "contour"
           }
          ],
          "contourcarpet": [
           {
            "colorbar": {
             "outlinewidth": 0,
             "ticks": ""
            },
            "type": "contourcarpet"
           }
          ],
          "heatmap": [
           {
            "colorbar": {
             "outlinewidth": 0,
             "ticks": ""
            },
            "colorscale": [
             [
              0,
              "#0d0887"
             ],
             [
              0.1111111111111111,
              "#46039f"
             ],
             [
              0.2222222222222222,
              "#7201a8"
             ],
             [
              0.3333333333333333,
              "#9c179e"
             ],
             [
              0.4444444444444444,
              "#bd3786"
             ],
             [
              0.5555555555555556,
              "#d8576b"
             ],
             [
              0.6666666666666666,
              "#ed7953"
             ],
             [
              0.7777777777777778,
              "#fb9f3a"
             ],
             [
              0.8888888888888888,
              "#fdca26"
             ],
             [
              1,
              "#f0f921"
             ]
            ],
            "type": "heatmap"
           }
          ],
          "histogram": [
           {
            "marker": {
             "pattern": {
              "fillmode": "overlay",
              "size": 10,
              "solidity": 0.2
             }
            },
            "type": "histogram"
           }
          ],
          "histogram2d": [
           {
            "colorbar": {
             "outlinewidth": 0,
             "ticks": ""
            },
            "colorscale": [
             [
              0,
              "#0d0887"
             ],
             [
              0.1111111111111111,
              "#46039f"
             ],
             [
              0.2222222222222222,
              "#7201a8"
             ],
             [
              0.3333333333333333,
              "#9c179e"
             ],
             [
              0.4444444444444444,
              "#bd3786"
             ],
             [
              0.5555555555555556,
              "#d8576b"
             ],
             [
              0.6666666666666666,
              "#ed7953"
             ],
             [
              0.7777777777777778,
              "#fb9f3a"
             ],
             [
              0.8888888888888888,
              "#fdca26"
             ],
             [
              1,
              "#f0f921"
             ]
            ],
            "type": "histogram2d"
           }
          ],
          "histogram2dcontour": [
           {
            "colorbar": {
             "outlinewidth": 0,
             "ticks": ""
            },
            "colorscale": [
             [
              0,
              "#0d0887"
             ],
             [
              0.1111111111111111,
              "#46039f"
             ],
             [
              0.2222222222222222,
              "#7201a8"
             ],
             [
              0.3333333333333333,
              "#9c179e"
             ],
             [
              0.4444444444444444,
              "#bd3786"
             ],
             [
              0.5555555555555556,
              "#d8576b"
             ],
             [
              0.6666666666666666,
              "#ed7953"
             ],
             [
              0.7777777777777778,
              "#fb9f3a"
             ],
             [
              0.8888888888888888,
              "#fdca26"
             ],
             [
              1,
              "#f0f921"
             ]
            ],
            "type": "histogram2dcontour"
           }
          ],
          "mesh3d": [
           {
            "colorbar": {
             "outlinewidth": 0,
             "ticks": ""
            },
            "type": "mesh3d"
           }
          ],
          "parcoords": [
           {
            "line": {
             "colorbar": {
              "outlinewidth": 0,
              "ticks": ""
             }
            },
            "type": "parcoords"
           }
          ],
          "pie": [
           {
            "automargin": true,
            "type": "pie"
           }
          ],
          "scatter": [
           {
            "fillpattern": {
             "fillmode": "overlay",
             "size": 10,
             "solidity": 0.2
            },
            "type": "scatter"
           }
          ],
          "scatter3d": [
           {
            "line": {
             "colorbar": {
              "outlinewidth": 0,
              "ticks": ""
             }
            },
            "marker": {
             "colorbar": {
              "outlinewidth": 0,
              "ticks": ""
             }
            },
            "type": "scatter3d"
           }
          ],
          "scattercarpet": [
           {
            "marker": {
             "colorbar": {
              "outlinewidth": 0,
              "ticks": ""
             }
            },
            "type": "scattercarpet"
           }
          ],
          "scattergeo": [
           {
            "marker": {
             "colorbar": {
              "outlinewidth": 0,
              "ticks": ""
             }
            },
            "type": "scattergeo"
           }
          ],
          "scattergl": [
           {
            "marker": {
             "colorbar": {
              "outlinewidth": 0,
              "ticks": ""
             }
            },
            "type": "scattergl"
           }
          ],
          "scattermap": [
           {
            "marker": {
             "colorbar": {
              "outlinewidth": 0,
              "ticks": ""
             }
            },
            "type": "scattermap"
           }
          ],
          "scattermapbox": [
           {
            "marker": {
             "colorbar": {
              "outlinewidth": 0,
              "ticks": ""
             }
            },
            "type": "scattermapbox"
           }
          ],
          "scatterpolar": [
           {
            "marker": {
             "colorbar": {
              "outlinewidth": 0,
              "ticks": ""
             }
            },
            "type": "scatterpolar"
           }
          ],
          "scatterpolargl": [
           {
            "marker": {
             "colorbar": {
              "outlinewidth": 0,
              "ticks": ""
             }
            },
            "type": "scatterpolargl"
           }
          ],
          "scatterternary": [
           {
            "marker": {
             "colorbar": {
              "outlinewidth": 0,
              "ticks": ""
             }
            },
            "type": "scatterternary"
           }
          ],
          "surface": [
           {
            "colorbar": {
             "outlinewidth": 0,
             "ticks": ""
            },
            "colorscale": [
             [
              0,
              "#0d0887"
             ],
             [
              0.1111111111111111,
              "#46039f"
             ],
             [
              0.2222222222222222,
              "#7201a8"
             ],
             [
              0.3333333333333333,
              "#9c179e"
             ],
             [
              0.4444444444444444,
              "#bd3786"
             ],
             [
              0.5555555555555556,
              "#d8576b"
             ],
             [
              0.6666666666666666,
              "#ed7953"
             ],
             [
              0.7777777777777778,
              "#fb9f3a"
             ],
             [
              0.8888888888888888,
              "#fdca26"
             ],
             [
              1,
              "#f0f921"
             ]
            ],
            "type": "surface"
           }
          ],
          "table": [
           {
            "cells": {
             "fill": {
              "color": "#EBF0F8"
             },
             "line": {
              "color": "white"
             }
            },
            "header": {
             "fill": {
              "color": "#C8D4E3"
             },
             "line": {
              "color": "white"
             }
            },
            "type": "table"
           }
          ]
         },
         "layout": {
          "annotationdefaults": {
           "arrowcolor": "#2a3f5f",
           "arrowhead": 0,
           "arrowwidth": 1
          },
          "autotypenumbers": "strict",
          "coloraxis": {
           "colorbar": {
            "outlinewidth": 0,
            "ticks": ""
           }
          },
          "colorscale": {
           "diverging": [
            [
             0,
             "#8e0152"
            ],
            [
             0.1,
             "#c51b7d"
            ],
            [
             0.2,
             "#de77ae"
            ],
            [
             0.3,
             "#f1b6da"
            ],
            [
             0.4,
             "#fde0ef"
            ],
            [
             0.5,
             "#f7f7f7"
            ],
            [
             0.6,
             "#e6f5d0"
            ],
            [
             0.7,
             "#b8e186"
            ],
            [
             0.8,
             "#7fbc41"
            ],
            [
             0.9,
             "#4d9221"
            ],
            [
             1,
             "#276419"
            ]
           ],
           "sequential": [
            [
             0,
             "#0d0887"
            ],
            [
             0.1111111111111111,
             "#46039f"
            ],
            [
             0.2222222222222222,
             "#7201a8"
            ],
            [
             0.3333333333333333,
             "#9c179e"
            ],
            [
             0.4444444444444444,
             "#bd3786"
            ],
            [
             0.5555555555555556,
             "#d8576b"
            ],
            [
             0.6666666666666666,
             "#ed7953"
            ],
            [
             0.7777777777777778,
             "#fb9f3a"
            ],
            [
             0.8888888888888888,
             "#fdca26"
            ],
            [
             1,
             "#f0f921"
            ]
           ],
           "sequentialminus": [
            [
             0,
             "#0d0887"
            ],
            [
             0.1111111111111111,
             "#46039f"
            ],
            [
             0.2222222222222222,
             "#7201a8"
            ],
            [
             0.3333333333333333,
             "#9c179e"
            ],
            [
             0.4444444444444444,
             "#bd3786"
            ],
            [
             0.5555555555555556,
             "#d8576b"
            ],
            [
             0.6666666666666666,
             "#ed7953"
            ],
            [
             0.7777777777777778,
             "#fb9f3a"
            ],
            [
             0.8888888888888888,
             "#fdca26"
            ],
            [
             1,
             "#f0f921"
            ]
           ]
          },
          "colorway": [
           "#636efa",
           "#EF553B",
           "#00cc96",
           "#ab63fa",
           "#FFA15A",
           "#19d3f3",
           "#FF6692",
           "#B6E880",
           "#FF97FF",
           "#FECB52"
          ],
          "font": {
           "color": "#2a3f5f"
          },
          "geo": {
           "bgcolor": "white",
           "lakecolor": "white",
           "landcolor": "#E5ECF6",
           "showlakes": true,
           "showland": true,
           "subunitcolor": "white"
          },
          "hoverlabel": {
           "align": "left"
          },
          "hovermode": "closest",
          "mapbox": {
           "style": "light"
          },
          "paper_bgcolor": "white",
          "plot_bgcolor": "#E5ECF6",
          "polar": {
           "angularaxis": {
            "gridcolor": "white",
            "linecolor": "white",
            "ticks": ""
           },
           "bgcolor": "#E5ECF6",
           "radialaxis": {
            "gridcolor": "white",
            "linecolor": "white",
            "ticks": ""
           }
          },
          "scene": {
           "xaxis": {
            "backgroundcolor": "#E5ECF6",
            "gridcolor": "white",
            "gridwidth": 2,
            "linecolor": "white",
            "showbackground": true,
            "ticks": "",
            "zerolinecolor": "white"
           },
           "yaxis": {
            "backgroundcolor": "#E5ECF6",
            "gridcolor": "white",
            "gridwidth": 2,
            "linecolor": "white",
            "showbackground": true,
            "ticks": "",
            "zerolinecolor": "white"
           },
           "zaxis": {
            "backgroundcolor": "#E5ECF6",
            "gridcolor": "white",
            "gridwidth": 2,
            "linecolor": "white",
            "showbackground": true,
            "ticks": "",
            "zerolinecolor": "white"
           }
          },
          "shapedefaults": {
           "line": {
            "color": "#2a3f5f"
           }
          },
          "ternary": {
           "aaxis": {
            "gridcolor": "white",
            "linecolor": "white",
            "ticks": ""
           },
           "baxis": {
            "gridcolor": "white",
            "linecolor": "white",
            "ticks": ""
           },
           "bgcolor": "#E5ECF6",
           "caxis": {
            "gridcolor": "white",
            "linecolor": "white",
            "ticks": ""
           }
          },
          "title": {
           "x": 0.05
          },
          "xaxis": {
           "automargin": true,
           "gridcolor": "white",
           "linecolor": "white",
           "ticks": "",
           "title": {
            "standoff": 15
           },
           "zerolinecolor": "white",
           "zerolinewidth": 2
          },
          "yaxis": {
           "automargin": true,
           "gridcolor": "white",
           "linecolor": "white",
           "ticks": "",
           "title": {
            "standoff": 15
           },
           "zerolinecolor": "white",
           "zerolinewidth": 2
          }
         }
        },
        "title": {
         "text": "Embeddings Plot"
        },
        "width": 1000,
        "xaxis": {
         "title": {
          "text": "Index"
         }
        },
        "yaxis": {
         "title": {
          "text": "Value"
         }
        }
       }
      }
     },
     "metadata": {},
     "output_type": "display_data"
    }
   ],
   "source": [
    " \n",
    "import plotly.graph_objects as go\n",
    "fig = go.Figure()\n",
    "x_values = list(range(embeddings_array[0,:].shape[0]))\n",
    "# Add traces for each embedding\n",
    "\n",
    "for n in range( len(embeddings_array) ):\n",
    "    fig.add_trace(go.Scatter(x=x_values, y=embeddings_array[n, :], mode='lines+markers', name=f'Embedding {n+1}'))\n",
    " \n",
    " \n",
    "fig.update_layout(\n",
    "    title=\"Embeddings Plot\",\n",
    "    xaxis_title=\"Index\",\n",
    "    yaxis_title=\"Value\",\n",
    "    width=1000,  # Equivalent to figsize=(20, 5)\n",
    "    height=400,\n",
    "    legend_title=\"Embeddings\",\n",
    ")\n",
    "\n",
    "# Show the plot\n",
    "fig.show()\n",
    "\n",
    "#whats going on with those spikes in the ada model? \n"
   ]
  },
  {
   "cell_type": "markdown",
   "metadata": {},
   "source": [
    "## Lets see some applications "
   ]
  },
  {
   "cell_type": "code",
   "execution_count": 77,
   "metadata": {},
   "outputs": [
    {
     "name": "stdout",
     "output_type": "stream",
     "text": [
      "---\n",
      "[1.0000000000000002, 0.44546818347262274, 0.05563928118430275]\n",
      "[0.44546818347262274, 1.0, 0.011754053646187156]\n",
      "[0.05563928118430275, 0.011754053646187156, 1.0]\n"
     ]
    },
    {
     "data": {
      "application/vnd.plotly.v1+json": {
       "config": {
        "plotlyServerURL": "https://plot.ly"
       },
       "data": [
        {
         "coloraxis": "coloraxis",
         "hovertemplate": "x: %{x}<br>y: %{y}<br>color: %{z}<extra></extra>",
         "name": "0",
         "type": "heatmap",
         "xaxis": "x",
         "yaxis": "y",
         "z": {
          "bdata": "AQAAAAAA8D+uGdv7jILcP4R6HnrAfKw/rhnb+4yC3D8AAAAAAADwP6biC2CCEog/hHoeesB8rD+m4gtgghKIPwAAAAAAAPA/",
          "dtype": "f8",
          "shape": "3, 3"
         }
        }
       ],
       "layout": {
        "coloraxis": {
         "colorscale": [
          [
           0,
           "#0d0887"
          ],
          [
           0.1111111111111111,
           "#46039f"
          ],
          [
           0.2222222222222222,
           "#7201a8"
          ],
          [
           0.3333333333333333,
           "#9c179e"
          ],
          [
           0.4444444444444444,
           "#bd3786"
          ],
          [
           0.5555555555555556,
           "#d8576b"
          ],
          [
           0.6666666666666666,
           "#ed7953"
          ],
          [
           0.7777777777777778,
           "#fb9f3a"
          ],
          [
           0.8888888888888888,
           "#fdca26"
          ],
          [
           1,
           "#f0f921"
          ]
         ]
        },
        "margin": {
         "t": 60
        },
        "template": {
         "data": {
          "bar": [
           {
            "error_x": {
             "color": "#2a3f5f"
            },
            "error_y": {
             "color": "#2a3f5f"
            },
            "marker": {
             "line": {
              "color": "#E5ECF6",
              "width": 0.5
             },
             "pattern": {
              "fillmode": "overlay",
              "size": 10,
              "solidity": 0.2
             }
            },
            "type": "bar"
           }
          ],
          "barpolar": [
           {
            "marker": {
             "line": {
              "color": "#E5ECF6",
              "width": 0.5
             },
             "pattern": {
              "fillmode": "overlay",
              "size": 10,
              "solidity": 0.2
             }
            },
            "type": "barpolar"
           }
          ],
          "carpet": [
           {
            "aaxis": {
             "endlinecolor": "#2a3f5f",
             "gridcolor": "white",
             "linecolor": "white",
             "minorgridcolor": "white",
             "startlinecolor": "#2a3f5f"
            },
            "baxis": {
             "endlinecolor": "#2a3f5f",
             "gridcolor": "white",
             "linecolor": "white",
             "minorgridcolor": "white",
             "startlinecolor": "#2a3f5f"
            },
            "type": "carpet"
           }
          ],
          "choropleth": [
           {
            "colorbar": {
             "outlinewidth": 0,
             "ticks": ""
            },
            "type": "choropleth"
           }
          ],
          "contour": [
           {
            "colorbar": {
             "outlinewidth": 0,
             "ticks": ""
            },
            "colorscale": [
             [
              0,
              "#0d0887"
             ],
             [
              0.1111111111111111,
              "#46039f"
             ],
             [
              0.2222222222222222,
              "#7201a8"
             ],
             [
              0.3333333333333333,
              "#9c179e"
             ],
             [
              0.4444444444444444,
              "#bd3786"
             ],
             [
              0.5555555555555556,
              "#d8576b"
             ],
             [
              0.6666666666666666,
              "#ed7953"
             ],
             [
              0.7777777777777778,
              "#fb9f3a"
             ],
             [
              0.8888888888888888,
              "#fdca26"
             ],
             [
              1,
              "#f0f921"
             ]
            ],
            "type": "contour"
           }
          ],
          "contourcarpet": [
           {
            "colorbar": {
             "outlinewidth": 0,
             "ticks": ""
            },
            "type": "contourcarpet"
           }
          ],
          "heatmap": [
           {
            "colorbar": {
             "outlinewidth": 0,
             "ticks": ""
            },
            "colorscale": [
             [
              0,
              "#0d0887"
             ],
             [
              0.1111111111111111,
              "#46039f"
             ],
             [
              0.2222222222222222,
              "#7201a8"
             ],
             [
              0.3333333333333333,
              "#9c179e"
             ],
             [
              0.4444444444444444,
              "#bd3786"
             ],
             [
              0.5555555555555556,
              "#d8576b"
             ],
             [
              0.6666666666666666,
              "#ed7953"
             ],
             [
              0.7777777777777778,
              "#fb9f3a"
             ],
             [
              0.8888888888888888,
              "#fdca26"
             ],
             [
              1,
              "#f0f921"
             ]
            ],
            "type": "heatmap"
           }
          ],
          "histogram": [
           {
            "marker": {
             "pattern": {
              "fillmode": "overlay",
              "size": 10,
              "solidity": 0.2
             }
            },
            "type": "histogram"
           }
          ],
          "histogram2d": [
           {
            "colorbar": {
             "outlinewidth": 0,
             "ticks": ""
            },
            "colorscale": [
             [
              0,
              "#0d0887"
             ],
             [
              0.1111111111111111,
              "#46039f"
             ],
             [
              0.2222222222222222,
              "#7201a8"
             ],
             [
              0.3333333333333333,
              "#9c179e"
             ],
             [
              0.4444444444444444,
              "#bd3786"
             ],
             [
              0.5555555555555556,
              "#d8576b"
             ],
             [
              0.6666666666666666,
              "#ed7953"
             ],
             [
              0.7777777777777778,
              "#fb9f3a"
             ],
             [
              0.8888888888888888,
              "#fdca26"
             ],
             [
              1,
              "#f0f921"
             ]
            ],
            "type": "histogram2d"
           }
          ],
          "histogram2dcontour": [
           {
            "colorbar": {
             "outlinewidth": 0,
             "ticks": ""
            },
            "colorscale": [
             [
              0,
              "#0d0887"
             ],
             [
              0.1111111111111111,
              "#46039f"
             ],
             [
              0.2222222222222222,
              "#7201a8"
             ],
             [
              0.3333333333333333,
              "#9c179e"
             ],
             [
              0.4444444444444444,
              "#bd3786"
             ],
             [
              0.5555555555555556,
              "#d8576b"
             ],
             [
              0.6666666666666666,
              "#ed7953"
             ],
             [
              0.7777777777777778,
              "#fb9f3a"
             ],
             [
              0.8888888888888888,
              "#fdca26"
             ],
             [
              1,
              "#f0f921"
             ]
            ],
            "type": "histogram2dcontour"
           }
          ],
          "mesh3d": [
           {
            "colorbar": {
             "outlinewidth": 0,
             "ticks": ""
            },
            "type": "mesh3d"
           }
          ],
          "parcoords": [
           {
            "line": {
             "colorbar": {
              "outlinewidth": 0,
              "ticks": ""
             }
            },
            "type": "parcoords"
           }
          ],
          "pie": [
           {
            "automargin": true,
            "type": "pie"
           }
          ],
          "scatter": [
           {
            "fillpattern": {
             "fillmode": "overlay",
             "size": 10,
             "solidity": 0.2
            },
            "type": "scatter"
           }
          ],
          "scatter3d": [
           {
            "line": {
             "colorbar": {
              "outlinewidth": 0,
              "ticks": ""
             }
            },
            "marker": {
             "colorbar": {
              "outlinewidth": 0,
              "ticks": ""
             }
            },
            "type": "scatter3d"
           }
          ],
          "scattercarpet": [
           {
            "marker": {
             "colorbar": {
              "outlinewidth": 0,
              "ticks": ""
             }
            },
            "type": "scattercarpet"
           }
          ],
          "scattergeo": [
           {
            "marker": {
             "colorbar": {
              "outlinewidth": 0,
              "ticks": ""
             }
            },
            "type": "scattergeo"
           }
          ],
          "scattergl": [
           {
            "marker": {
             "colorbar": {
              "outlinewidth": 0,
              "ticks": ""
             }
            },
            "type": "scattergl"
           }
          ],
          "scattermap": [
           {
            "marker": {
             "colorbar": {
              "outlinewidth": 0,
              "ticks": ""
             }
            },
            "type": "scattermap"
           }
          ],
          "scattermapbox": [
           {
            "marker": {
             "colorbar": {
              "outlinewidth": 0,
              "ticks": ""
             }
            },
            "type": "scattermapbox"
           }
          ],
          "scatterpolar": [
           {
            "marker": {
             "colorbar": {
              "outlinewidth": 0,
              "ticks": ""
             }
            },
            "type": "scatterpolar"
           }
          ],
          "scatterpolargl": [
           {
            "marker": {
             "colorbar": {
              "outlinewidth": 0,
              "ticks": ""
             }
            },
            "type": "scatterpolargl"
           }
          ],
          "scatterternary": [
           {
            "marker": {
             "colorbar": {
              "outlinewidth": 0,
              "ticks": ""
             }
            },
            "type": "scatterternary"
           }
          ],
          "surface": [
           {
            "colorbar": {
             "outlinewidth": 0,
             "ticks": ""
            },
            "colorscale": [
             [
              0,
              "#0d0887"
             ],
             [
              0.1111111111111111,
              "#46039f"
             ],
             [
              0.2222222222222222,
              "#7201a8"
             ],
             [
              0.3333333333333333,
              "#9c179e"
             ],
             [
              0.4444444444444444,
              "#bd3786"
             ],
             [
              0.5555555555555556,
              "#d8576b"
             ],
             [
              0.6666666666666666,
              "#ed7953"
             ],
             [
              0.7777777777777778,
              "#fb9f3a"
             ],
             [
              0.8888888888888888,
              "#fdca26"
             ],
             [
              1,
              "#f0f921"
             ]
            ],
            "type": "surface"
           }
          ],
          "table": [
           {
            "cells": {
             "fill": {
              "color": "#EBF0F8"
             },
             "line": {
              "color": "white"
             }
            },
            "header": {
             "fill": {
              "color": "#C8D4E3"
             },
             "line": {
              "color": "white"
             }
            },
            "type": "table"
           }
          ]
         },
         "layout": {
          "annotationdefaults": {
           "arrowcolor": "#2a3f5f",
           "arrowhead": 0,
           "arrowwidth": 1
          },
          "autotypenumbers": "strict",
          "coloraxis": {
           "colorbar": {
            "outlinewidth": 0,
            "ticks": ""
           }
          },
          "colorscale": {
           "diverging": [
            [
             0,
             "#8e0152"
            ],
            [
             0.1,
             "#c51b7d"
            ],
            [
             0.2,
             "#de77ae"
            ],
            [
             0.3,
             "#f1b6da"
            ],
            [
             0.4,
             "#fde0ef"
            ],
            [
             0.5,
             "#f7f7f7"
            ],
            [
             0.6,
             "#e6f5d0"
            ],
            [
             0.7,
             "#b8e186"
            ],
            [
             0.8,
             "#7fbc41"
            ],
            [
             0.9,
             "#4d9221"
            ],
            [
             1,
             "#276419"
            ]
           ],
           "sequential": [
            [
             0,
             "#0d0887"
            ],
            [
             0.1111111111111111,
             "#46039f"
            ],
            [
             0.2222222222222222,
             "#7201a8"
            ],
            [
             0.3333333333333333,
             "#9c179e"
            ],
            [
             0.4444444444444444,
             "#bd3786"
            ],
            [
             0.5555555555555556,
             "#d8576b"
            ],
            [
             0.6666666666666666,
             "#ed7953"
            ],
            [
             0.7777777777777778,
             "#fb9f3a"
            ],
            [
             0.8888888888888888,
             "#fdca26"
            ],
            [
             1,
             "#f0f921"
            ]
           ],
           "sequentialminus": [
            [
             0,
             "#0d0887"
            ],
            [
             0.1111111111111111,
             "#46039f"
            ],
            [
             0.2222222222222222,
             "#7201a8"
            ],
            [
             0.3333333333333333,
             "#9c179e"
            ],
            [
             0.4444444444444444,
             "#bd3786"
            ],
            [
             0.5555555555555556,
             "#d8576b"
            ],
            [
             0.6666666666666666,
             "#ed7953"
            ],
            [
             0.7777777777777778,
             "#fb9f3a"
            ],
            [
             0.8888888888888888,
             "#fdca26"
            ],
            [
             1,
             "#f0f921"
            ]
           ]
          },
          "colorway": [
           "#636efa",
           "#EF553B",
           "#00cc96",
           "#ab63fa",
           "#FFA15A",
           "#19d3f3",
           "#FF6692",
           "#B6E880",
           "#FF97FF",
           "#FECB52"
          ],
          "font": {
           "color": "#2a3f5f"
          },
          "geo": {
           "bgcolor": "white",
           "lakecolor": "white",
           "landcolor": "#E5ECF6",
           "showlakes": true,
           "showland": true,
           "subunitcolor": "white"
          },
          "hoverlabel": {
           "align": "left"
          },
          "hovermode": "closest",
          "mapbox": {
           "style": "light"
          },
          "paper_bgcolor": "white",
          "plot_bgcolor": "#E5ECF6",
          "polar": {
           "angularaxis": {
            "gridcolor": "white",
            "linecolor": "white",
            "ticks": ""
           },
           "bgcolor": "#E5ECF6",
           "radialaxis": {
            "gridcolor": "white",
            "linecolor": "white",
            "ticks": ""
           }
          },
          "scene": {
           "xaxis": {
            "backgroundcolor": "#E5ECF6",
            "gridcolor": "white",
            "gridwidth": 2,
            "linecolor": "white",
            "showbackground": true,
            "ticks": "",
            "zerolinecolor": "white"
           },
           "yaxis": {
            "backgroundcolor": "#E5ECF6",
            "gridcolor": "white",
            "gridwidth": 2,
            "linecolor": "white",
            "showbackground": true,
            "ticks": "",
            "zerolinecolor": "white"
           },
           "zaxis": {
            "backgroundcolor": "#E5ECF6",
            "gridcolor": "white",
            "gridwidth": 2,
            "linecolor": "white",
            "showbackground": true,
            "ticks": "",
            "zerolinecolor": "white"
           }
          },
          "shapedefaults": {
           "line": {
            "color": "#2a3f5f"
           }
          },
          "ternary": {
           "aaxis": {
            "gridcolor": "white",
            "linecolor": "white",
            "ticks": ""
           },
           "baxis": {
            "gridcolor": "white",
            "linecolor": "white",
            "ticks": ""
           },
           "bgcolor": "#E5ECF6",
           "caxis": {
            "gridcolor": "white",
            "linecolor": "white",
            "ticks": ""
           }
          },
          "title": {
           "x": 0.05
          },
          "xaxis": {
           "automargin": true,
           "gridcolor": "white",
           "linecolor": "white",
           "ticks": "",
           "title": {
            "standoff": 15
           },
           "zerolinecolor": "white",
           "zerolinewidth": 2
          },
          "yaxis": {
           "automargin": true,
           "gridcolor": "white",
           "linecolor": "white",
           "ticks": "",
           "title": {
            "standoff": 15
           },
           "zerolinecolor": "white",
           "zerolinewidth": 2
          }
         }
        },
        "xaxis": {
         "anchor": "y",
         "constrain": "domain",
         "domain": [
          0,
          1
         ],
         "scaleanchor": "y"
        },
        "yaxis": {
         "anchor": "x",
         "autorange": "reversed",
         "constrain": "domain",
         "domain": [
          0,
          1
         ]
        }
       }
      }
     },
     "metadata": {},
     "output_type": "display_data"
    }
   ],
   "source": [
    "from langchain.embeddings.openai import OpenAIEmbeddings\n",
    "\n",
    "dimension = 256 \n",
    "embedding = OpenAIEmbeddings( model = openai_embbeding_model_small, model_kwargs= {'dimensions' : dimension} )\n",
    "\n",
    " \n",
    "weather_uk = 'The climate in the United Kingdom is defined as a humid temperate oceanic climate, \\\n",
    "or Cfb on the Köppen climate classification system, a classification it shares with most of \\\n",
    "north-west Europe.\\\n",
    "Regional climates are influenced by the Atlantic Ocean and latitude. Northern Ireland, \\\n",
    "Wales and western parts of England and Scotland, being closest to the Atlantic Ocean,\\\n",
    "are generally the mildest, wettest, and windiest regions of the UK, and temperature ranges \\\n",
    "there are seldom extreme. Eastern areas are drier, cooler, and less windy, and also \\\n",
    "experience the greatest daily and seasonal temperature variations. Northern areas are generally \\\n",
    "cooler and wetter and have slightly larger temperature ranges than southern areas, which are \\\n",
    "generally warmer and drier.'.replace(\"  \",\" \")\n",
    "        \n",
    "weather_forecast = 'A few showers lingering in the east, with further rain into North. \\\n",
    "Elsewhere, mainly dry and cloudy. Breezy along coasts. Rather cold, but again milder \\\n",
    "in the southwest.'.replace(\"  \",\" \")\n",
    "      \n",
    "      \n",
    "bicycle = 'A bicycle, also called a pedal cycle, bike, push-bike or cycle, is a human-powered or motor-assisted, \\\n",
    "pedal-driven, single-track vehicle, with two wheels attached to a frame, one behind the other. A bicycle \\\n",
    "rider is called a cyclist, or bicyclist. Bicycles were introduced in the 19th century in Europe. By \\\n",
    "the early 21st century there were more than 1 billion bicycles.[1][2] There are many more bicycles \\\n",
    "than cars.[3][4][5] Bicycles are the principal means of transport in many regions. They also provide \\\n",
    "a popular form of recreation, and have been adapted for use as childrens toys. Bicycles are used for \\\n",
    "fitness, military and police applications, courier services, bicycle racing, and artistic cycling. \\\n",
    "The basic shape and configuration of a typical upright or safety bicycle, has changed little since \\\n",
    "the first chain-driven model was developed around 1885.[6][7][8] However, many details have been improved, \\\n",
    "especially since the advent of modern materials and computer-aided design. These have allowed for a \\\n",
    "proliferation of specialized designs for many types of cycling. In the 21st century, electric bicycles \\\n",
    "have become popular.'.replace(\"  \",\" \") \n",
    " \n",
    "sentence1_emb  = embedding.embed_query(weather_uk)\n",
    "sentence2_emb  = embedding.embed_query(weather_forecast)\n",
    "sentence3_emb  = embedding.embed_query(bicycle)\n",
    " \n",
    " \n",
    "print('---')\n",
    "stack = [] \n",
    "for x in [sentence1_emb,sentence2_emb,sentence3_emb]:\n",
    "    result = [np.dot(sentence1_emb, x),np.dot(sentence2_emb, x),np.dot(sentence3_emb, x)]\n",
    "    print( result )\n",
    "    stack.append(result)\n",
    "    \n",
    "fig = px.imshow(stack)\n",
    "fig.show()\n"
   ]
  },
  {
   "cell_type": "code",
   "execution_count": 88,
   "metadata": {},
   "outputs": [
    {
     "name": "stdout",
     "output_type": "stream",
     "text": [
      "split of weather_uk\n",
      "The climate in the United Kingdom is defined as a humid temperate oceanic climate, or Cfb on the Köppen climate classification system, a classification it shares with most of north-west Europe.Regional climates are influenced by the Atlantic Ocean\n"
     ]
    },
    {
     "data": {
      "text/html": [
       "<div>\n",
       "<style scoped>\n",
       "    .dataframe tbody tr th:only-of-type {\n",
       "        vertical-align: middle;\n",
       "    }\n",
       "\n",
       "    .dataframe tbody tr th {\n",
       "        vertical-align: top;\n",
       "    }\n",
       "\n",
       "    .dataframe thead th {\n",
       "        text-align: right;\n",
       "    }\n",
       "</style>\n",
       "<table border=\"1\" class=\"dataframe\">\n",
       "  <thead>\n",
       "    <tr style=\"text-align: right;\">\n",
       "      <th></th>\n",
       "      <th>weather_uk</th>\n",
       "      <th>weather_forecast</th>\n",
       "      <th>bicycle</th>\n",
       "    </tr>\n",
       "  </thead>\n",
       "  <tbody>\n",
       "    <tr>\n",
       "      <th>0</th>\n",
       "      <td>0.921857</td>\n",
       "      <td>0.396558</td>\n",
       "      <td>0.046693</td>\n",
       "    </tr>\n",
       "  </tbody>\n",
       "</table>\n",
       "</div>"
      ],
      "text/plain": [
       "   weather_uk  weather_forecast   bicycle\n",
       "0    0.921857          0.396558  0.046693"
      ]
     },
     "metadata": {},
     "output_type": "display_data"
    },
    {
     "name": "stdout",
     "output_type": "stream",
     "text": [
      "split of weather_uk\n",
      "climates are influenced by the Atlantic Ocean and latitude. Northern Ireland, Wales and western parts of England and Scotland, being closest to the Atlantic Ocean,are generally the mildest, wettest, and windiest regions of the UK, and temperature\n"
     ]
    },
    {
     "data": {
      "text/html": [
       "<div>\n",
       "<style scoped>\n",
       "    .dataframe tbody tr th:only-of-type {\n",
       "        vertical-align: middle;\n",
       "    }\n",
       "\n",
       "    .dataframe tbody tr th {\n",
       "        vertical-align: top;\n",
       "    }\n",
       "\n",
       "    .dataframe thead th {\n",
       "        text-align: right;\n",
       "    }\n",
       "</style>\n",
       "<table border=\"1\" class=\"dataframe\">\n",
       "  <thead>\n",
       "    <tr style=\"text-align: right;\">\n",
       "      <th></th>\n",
       "      <th>weather_uk</th>\n",
       "      <th>weather_forecast</th>\n",
       "      <th>bicycle</th>\n",
       "    </tr>\n",
       "  </thead>\n",
       "  <tbody>\n",
       "    <tr>\n",
       "      <th>0</th>\n",
       "      <td>0.819675</td>\n",
       "      <td>0.424899</td>\n",
       "      <td>-0.0454</td>\n",
       "    </tr>\n",
       "  </tbody>\n",
       "</table>\n",
       "</div>"
      ],
      "text/plain": [
       "   weather_uk  weather_forecast  bicycle\n",
       "0    0.819675          0.424899  -0.0454"
      ]
     },
     "metadata": {},
     "output_type": "display_data"
    },
    {
     "name": "stdout",
     "output_type": "stream",
     "text": [
      "split of weather_uk\n",
      "and windiest regions of the UK, and temperature ranges there are seldom extreme. Eastern areas are drier, cooler, and less windy, and also experience the greatest daily and seasonal temperature variations. Northern areas are generally cooler and\n"
     ]
    },
    {
     "data": {
      "text/html": [
       "<div>\n",
       "<style scoped>\n",
       "    .dataframe tbody tr th:only-of-type {\n",
       "        vertical-align: middle;\n",
       "    }\n",
       "\n",
       "    .dataframe tbody tr th {\n",
       "        vertical-align: top;\n",
       "    }\n",
       "\n",
       "    .dataframe thead th {\n",
       "        text-align: right;\n",
       "    }\n",
       "</style>\n",
       "<table border=\"1\" class=\"dataframe\">\n",
       "  <thead>\n",
       "    <tr style=\"text-align: right;\">\n",
       "      <th></th>\n",
       "      <th>weather_uk</th>\n",
       "      <th>weather_forecast</th>\n",
       "      <th>bicycle</th>\n",
       "    </tr>\n",
       "  </thead>\n",
       "  <tbody>\n",
       "    <tr>\n",
       "      <th>0</th>\n",
       "      <td>0.666773</td>\n",
       "      <td>0.514807</td>\n",
       "      <td>-0.056439</td>\n",
       "    </tr>\n",
       "  </tbody>\n",
       "</table>\n",
       "</div>"
      ],
      "text/plain": [
       "   weather_uk  weather_forecast   bicycle\n",
       "0    0.666773          0.514807 -0.056439"
      ]
     },
     "metadata": {},
     "output_type": "display_data"
    },
    {
     "name": "stdout",
     "output_type": "stream",
     "text": [
      "split of weather_uk\n",
      "variations. Northern areas are generally cooler and wetter and have slightly larger temperature ranges than southern areas, which are generally warmer and drier.\n"
     ]
    },
    {
     "data": {
      "text/html": [
       "<div>\n",
       "<style scoped>\n",
       "    .dataframe tbody tr th:only-of-type {\n",
       "        vertical-align: middle;\n",
       "    }\n",
       "\n",
       "    .dataframe tbody tr th {\n",
       "        vertical-align: top;\n",
       "    }\n",
       "\n",
       "    .dataframe thead th {\n",
       "        text-align: right;\n",
       "    }\n",
       "</style>\n",
       "<table border=\"1\" class=\"dataframe\">\n",
       "  <thead>\n",
       "    <tr style=\"text-align: right;\">\n",
       "      <th></th>\n",
       "      <th>weather_uk</th>\n",
       "      <th>weather_forecast</th>\n",
       "      <th>bicycle</th>\n",
       "    </tr>\n",
       "  </thead>\n",
       "  <tbody>\n",
       "    <tr>\n",
       "      <th>0</th>\n",
       "      <td>0.478832</td>\n",
       "      <td>0.461682</td>\n",
       "      <td>-0.009334</td>\n",
       "    </tr>\n",
       "  </tbody>\n",
       "</table>\n",
       "</div>"
      ],
      "text/plain": [
       "   weather_uk  weather_forecast   bicycle\n",
       "0    0.478832          0.461682 -0.009334"
      ]
     },
     "metadata": {},
     "output_type": "display_data"
    }
   ],
   "source": [
    "#lets split weather uk into multiple chunks and see if we can get a better match\n",
    "# Split\n",
    "\n",
    "import pandas as pd \n",
    "from langchain.text_splitter import RecursiveCharacterTextSplitter\n",
    "from langchain.retrievers import ContextualCompressionRetriever\n",
    "from langchain.retrievers.document_compressors import LLMChainExtractor\n",
    "from langchain_openai  import OpenAI\n",
    "\n",
    "text_splitter = RecursiveCharacterTextSplitter(\n",
    "    chunk_size = 250,\n",
    "    chunk_overlap = 55\n",
    ")\n",
    "splits1 = text_splitter.split_text(weather_uk)\n",
    "\n",
    "\n",
    "#similarity of splits of weather_uk and all the other sentences \n",
    "for split in splits1: \n",
    "    x =  embedding.embed_query(split)\n",
    "    \n",
    "    print('split of weather_uk')\n",
    "    print(split)\n",
    "    df = pd.DataFrame(  \n",
    "        {\n",
    "            'weather_uk': [np.dot(sentence1_emb, x)],\n",
    "            'weather_forecast': [np.dot(sentence2_emb, x)],\n",
    "            'bicycle': [np.dot(sentence3_emb, x)]\n",
    "        }\n",
    "    )\n",
    "    display(df)\n",
    "\n"
   ]
  },
  {
   "cell_type": "code",
   "execution_count": 91,
   "metadata": {},
   "outputs": [
    {
     "name": "stdout",
     "output_type": "stream",
     "text": [
      "split of bicycle\n",
      "A bicycle, also called a pedal cycle, bike, push-bike or cycle, is a human-powered or motor-assisted, pedal-driven, single-track vehicle, with two wheels attached to a frame, one behind the other. A bicycle rider is called a cyclist, or bicyclist.\n"
     ]
    },
    {
     "data": {
      "text/html": [
       "<div>\n",
       "<style scoped>\n",
       "    .dataframe tbody tr th:only-of-type {\n",
       "        vertical-align: middle;\n",
       "    }\n",
       "\n",
       "    .dataframe tbody tr th {\n",
       "        vertical-align: top;\n",
       "    }\n",
       "\n",
       "    .dataframe thead th {\n",
       "        text-align: right;\n",
       "    }\n",
       "</style>\n",
       "<table border=\"1\" class=\"dataframe\">\n",
       "  <thead>\n",
       "    <tr style=\"text-align: right;\">\n",
       "      <th></th>\n",
       "      <th>weather_uk</th>\n",
       "      <th>weather_forecast</th>\n",
       "      <th>bicycle</th>\n",
       "    </tr>\n",
       "  </thead>\n",
       "  <tbody>\n",
       "    <tr>\n",
       "      <th>0</th>\n",
       "      <td>-0.004982</td>\n",
       "      <td>-0.017202</td>\n",
       "      <td>0.85212</td>\n",
       "    </tr>\n",
       "  </tbody>\n",
       "</table>\n",
       "</div>"
      ],
      "text/plain": [
       "   weather_uk  weather_forecast  bicycle\n",
       "0   -0.004982         -0.017202  0.85212"
      ]
     },
     "metadata": {},
     "output_type": "display_data"
    },
    {
     "name": "stdout",
     "output_type": "stream",
     "text": [
      "split of bicycle\n",
      "a cyclist, or bicyclist. Bicycles were introduced in the 19th century in Europe. By the early 21st century there were more than 1 billion bicycles.[1][2] There are many more bicycles than cars.[3][4][5] Bicycles are the principal means of transport\n"
     ]
    },
    {
     "data": {
      "text/html": [
       "<div>\n",
       "<style scoped>\n",
       "    .dataframe tbody tr th:only-of-type {\n",
       "        vertical-align: middle;\n",
       "    }\n",
       "\n",
       "    .dataframe tbody tr th {\n",
       "        vertical-align: top;\n",
       "    }\n",
       "\n",
       "    .dataframe thead th {\n",
       "        text-align: right;\n",
       "    }\n",
       "</style>\n",
       "<table border=\"1\" class=\"dataframe\">\n",
       "  <thead>\n",
       "    <tr style=\"text-align: right;\">\n",
       "      <th></th>\n",
       "      <th>weather_uk</th>\n",
       "      <th>weather_forecast</th>\n",
       "      <th>bicycle</th>\n",
       "    </tr>\n",
       "  </thead>\n",
       "  <tbody>\n",
       "    <tr>\n",
       "      <th>0</th>\n",
       "      <td>0.091894</td>\n",
       "      <td>0.122547</td>\n",
       "      <td>0.75739</td>\n",
       "    </tr>\n",
       "  </tbody>\n",
       "</table>\n",
       "</div>"
      ],
      "text/plain": [
       "   weather_uk  weather_forecast  bicycle\n",
       "0    0.091894          0.122547  0.75739"
      ]
     },
     "metadata": {},
     "output_type": "display_data"
    },
    {
     "name": "stdout",
     "output_type": "stream",
     "text": [
      "split of bicycle\n",
      "means of transport in many regions. They also provide a popular form of recreation, and have been adapted for use as childrens toys. Bicycles are used for fitness, military and police applications, courier services, bicycle racing, and artistic\n"
     ]
    },
    {
     "data": {
      "text/html": [
       "<div>\n",
       "<style scoped>\n",
       "    .dataframe tbody tr th:only-of-type {\n",
       "        vertical-align: middle;\n",
       "    }\n",
       "\n",
       "    .dataframe tbody tr th {\n",
       "        vertical-align: top;\n",
       "    }\n",
       "\n",
       "    .dataframe thead th {\n",
       "        text-align: right;\n",
       "    }\n",
       "</style>\n",
       "<table border=\"1\" class=\"dataframe\">\n",
       "  <thead>\n",
       "    <tr style=\"text-align: right;\">\n",
       "      <th></th>\n",
       "      <th>weather_uk</th>\n",
       "      <th>weather_forecast</th>\n",
       "      <th>bicycle</th>\n",
       "    </tr>\n",
       "  </thead>\n",
       "  <tbody>\n",
       "    <tr>\n",
       "      <th>0</th>\n",
       "      <td>0.077969</td>\n",
       "      <td>0.120366</td>\n",
       "      <td>0.640968</td>\n",
       "    </tr>\n",
       "  </tbody>\n",
       "</table>\n",
       "</div>"
      ],
      "text/plain": [
       "   weather_uk  weather_forecast   bicycle\n",
       "0    0.077969          0.120366  0.640968"
      ]
     },
     "metadata": {},
     "output_type": "display_data"
    },
    {
     "name": "stdout",
     "output_type": "stream",
     "text": [
      "split of bicycle\n",
      "racing, and artistic cycling. The basic shape and configuration of a typical upright or safety bicycle, has changed little since the first chain-driven model was developed around 1885.[6][7][8] However, many details have been improved, especially\n"
     ]
    },
    {
     "data": {
      "text/html": [
       "<div>\n",
       "<style scoped>\n",
       "    .dataframe tbody tr th:only-of-type {\n",
       "        vertical-align: middle;\n",
       "    }\n",
       "\n",
       "    .dataframe tbody tr th {\n",
       "        vertical-align: top;\n",
       "    }\n",
       "\n",
       "    .dataframe thead th {\n",
       "        text-align: right;\n",
       "    }\n",
       "</style>\n",
       "<table border=\"1\" class=\"dataframe\">\n",
       "  <thead>\n",
       "    <tr style=\"text-align: right;\">\n",
       "      <th></th>\n",
       "      <th>weather_uk</th>\n",
       "      <th>weather_forecast</th>\n",
       "      <th>bicycle</th>\n",
       "    </tr>\n",
       "  </thead>\n",
       "  <tbody>\n",
       "    <tr>\n",
       "      <th>0</th>\n",
       "      <td>0.035578</td>\n",
       "      <td>0.001088</td>\n",
       "      <td>0.619183</td>\n",
       "    </tr>\n",
       "  </tbody>\n",
       "</table>\n",
       "</div>"
      ],
      "text/plain": [
       "   weather_uk  weather_forecast   bicycle\n",
       "0    0.035578          0.001088  0.619183"
      ]
     },
     "metadata": {},
     "output_type": "display_data"
    },
    {
     "name": "stdout",
     "output_type": "stream",
     "text": [
      "split of bicycle\n",
      "improved, especially since the advent of modern materials and computer-aided design. These have allowed for a proliferation of specialized designs for many types of cycling. In the 21st century, electric bicycles have become popular.\n"
     ]
    },
    {
     "data": {
      "text/html": [
       "<div>\n",
       "<style scoped>\n",
       "    .dataframe tbody tr th:only-of-type {\n",
       "        vertical-align: middle;\n",
       "    }\n",
       "\n",
       "    .dataframe tbody tr th {\n",
       "        vertical-align: top;\n",
       "    }\n",
       "\n",
       "    .dataframe thead th {\n",
       "        text-align: right;\n",
       "    }\n",
       "</style>\n",
       "<table border=\"1\" class=\"dataframe\">\n",
       "  <thead>\n",
       "    <tr style=\"text-align: right;\">\n",
       "      <th></th>\n",
       "      <th>weather_uk</th>\n",
       "      <th>weather_forecast</th>\n",
       "      <th>bicycle</th>\n",
       "    </tr>\n",
       "  </thead>\n",
       "  <tbody>\n",
       "    <tr>\n",
       "      <th>0</th>\n",
       "      <td>0.031095</td>\n",
       "      <td>0.08518</td>\n",
       "      <td>0.621283</td>\n",
       "    </tr>\n",
       "  </tbody>\n",
       "</table>\n",
       "</div>"
      ],
      "text/plain": [
       "   weather_uk  weather_forecast   bicycle\n",
       "0    0.031095           0.08518  0.621283"
      ]
     },
     "metadata": {},
     "output_type": "display_data"
    }
   ],
   "source": [
    "text_splitter = RecursiveCharacterTextSplitter(\n",
    "    chunk_size = 250,\n",
    "    chunk_overlap = 25\n",
    ")\n",
    "splits2 = text_splitter.split_text(bicycle)\n",
    "\n",
    "for split in splits2: \n",
    "    x =  embedding.embed_query(split)\n",
    "    print('split of bicycle')\n",
    "    print(split)\n",
    "    df = pd.DataFrame(  \n",
    "        {\n",
    "            'weather_uk': [np.dot(sentence1_emb, x)],\n",
    "            'weather_forecast': [np.dot(sentence2_emb, x)],\n",
    "            'bicycle': [np.dot(sentence3_emb, x)]\n",
    "        }\n",
    "    )\n",
    "    display(df)"
   ]
  },
  {
   "cell_type": "code",
   "execution_count": 82,
   "metadata": {},
   "outputs": [],
   "source": [
    "!rm -rf /tmp/chroma.db"
   ]
  },
  {
   "cell_type": "code",
   "execution_count": 89,
   "metadata": {},
   "outputs": [],
   "source": [
    "\n",
    "persist_directory = 'docs/chroma/'\n",
    "\n",
    "splits1 = text_splitter.split_text(weather_uk)\n",
    "#splits2 = text_splitter.split_text(vilma)\n",
    "#splits3 = text_splitter.split_text(weather_forecast)\n",
    "#splits4 = text_splitter.split_text(bicycle)\n",
    "splits = splits1 #+ splits2 + splits3 + splits4  \n",
    "\n",
    "\n",
    "vectordb = Chroma.from_texts(\n",
    "    texts = splits,\n",
    "    collection_name='weather_and_bicycle',\n",
    "    embedding=embedding,\n",
    "    persist_directory=persist_directory\n",
    ")\n",
    " \n",
    " "
   ]
  },
  {
   "cell_type": "code",
   "execution_count": null,
   "metadata": {},
   "outputs": [
    {
     "name": "stdout",
     "output_type": "stream",
     "text": [
      "basic similarity search\n",
      "\n",
      "****************************************************************************************************\n",
      "Document 1:\n",
      "\n",
      "are generally the mildest, wettest, and windiest regions of the UK, and temperature ranges         there are seldom extreme. Eastern areas are drier, cooler, and less windy, and also         experience the greatest daily and seasonal temperature variations. Northern areas are generally         cooler and wetter and have slightly larger temperature ranges than southern areas, which are         generally warmer and drier.\n",
      "----------------------------------------------------------------------------------------------------\n",
      "Document 2:\n",
      "\n",
      "are generally the mildest, wettest, and windiest regions of the UK, and temperature ranges         there are seldom extreme. Eastern areas are drier, cooler, and less windy, and also         experience the greatest daily and seasonal temperature variations. Northern areas are generally         cooler and wetter and have slightly larger temperature ranges than southern areas, which are         generally warmer and drier.\n",
      "----------------------------------------------------------------------------------------------------\n",
      "Document 3:\n",
      "\n",
      "wettest, and windiest regions of the UK, and temperature ranges     there are seldom extreme. Eastern areas are drier, cooler, and less windy, and also     experience the greatest daily and seasonal temperature variations. Northern areas are generally     cooler and wetter and have slightly larger temperature ranges than southern areas, which are     generally warmer and drier.\n",
      "--------------------\n",
      "max marginal relevance search\n",
      "\n",
      "****************************************************************************************************\n",
      "Document 1:\n",
      "\n",
      "are generally the mildest, wettest, and windiest regions of the UK, and temperature ranges         there are seldom extreme. Eastern areas are drier, cooler, and less windy, and also         experience the greatest daily and seasonal temperature variations. Northern areas are generally         cooler and wetter and have slightly larger temperature ranges than southern areas, which are         generally warmer and drier.\n",
      "----------------------------------------------------------------------------------------------------\n",
      "Document 2:\n",
      "\n",
      "The climate in the United Kingdom is defined as a humid temperate oceanic climate,     or Cfb on the Köppen climate classification system, a classification it shares with most of     north-west Europe.    Regional climates are influenced by the Atlantic Ocean and latitude. Northern Ireland,     Wales and western parts of England and Scotland, being closest to the Atlantic Ocean,    are generally the mildest, wettest, and windiest regions of the\n",
      "----------------------------------------------------------------------------------------------------\n",
      "Document 3:\n",
      "\n",
      "and Scotland, being closest to the Atlantic Ocean,are generally the mildest, wettest, and windiest regions of the UK, and temperature ranges there are seldom extreme. Eastern areas are drier, cooler, and less windy, and also experience the greatest daily and seasonal temperature variations. Northern areas are generally cooler and wetter and have\n",
      "--------------------\n",
      "llm compressor\n",
      "\n",
      "****************************************************************************************************\n",
      "Document 1:\n",
      "\n",
      "- Scotland, being closest to the Atlantic Ocean,are generally the mildest, wettest, and windiest regions of the UK\n",
      "- Eastern areas are drier, cooler, and less windy, and also experience the greatest daily and seasonal temperature variations\n",
      "- Northern areas are generally cooler and wetter\n",
      "----------------------------------------------------------------------------------------------------\n",
      "Document 2:\n",
      "\n",
      "Atlantic Ocean, latitude, Northern Ireland, Wales, western parts of England, Scotland, mildest, wettest, windiest, temperature ranges, seldom extreme.\n",
      "----------------------------------------------------------------------------------------------------\n",
      "Document 3:\n",
      "\n",
      "The climate in the United Kingdom is defined as a humid temperate oceanic climate, or Cfb on the Köppen climate classification system, a classification it shares with most of north-west Europe.\n"
     ]
    }
   ],
   "source": [
    "def pretty_print_docs(docs):\n",
    "    print()\n",
    "    print(100*'*')\n",
    "    if isinstance(docs[0],tuple):\n",
    "        print(f\"\\n{'-' * 100}\\n\".join([f\"Document {i+1}:\\n\\n\" + d[0].page_content for i, d in enumerate(docs)]))\n",
    "   \n",
    "    else:\n",
    "        print(f\"\\n{'-' * 100}\\n\".join([f\"Document {i+1}:\\n\\n\" + d.page_content for i, d in enumerate(docs)]))\n",
    "\n",
    "\n",
    "\n",
    "#s = 'what are other names given to byclicles?'\n",
    "s = 'whats the origin of byclicles?'\n",
    "s = 'What are the main contributors to regional climate variability in The UK?'\n",
    "\n",
    "print('basic similarity search')\n",
    "docs_simple = vectordb.similarity_search_with_score(s,k=3) \n",
    "pretty_print_docs(docs_simple)\n",
    "print(20*'-')\n",
    "\n",
    "print('max marginal relevance search')\n",
    "docs_mmr = vectordb.max_marginal_relevance_search(s,k=3, fetch_k = 5 )\n",
    "pretty_print_docs(docs_mmr)\n",
    "print(20*'-')\n",
    "\n",
    "\n",
    "# Wrap our vectorstore\n",
    "print('llm compressor')\n",
    "llm = OpenAI(temperature=0, model=\"gpt-3.5-turbo-instruct\")\n",
    "compressor = LLMChainExtractor.from_llm(llm)\n",
    "\n",
    "compression_retriever = ContextualCompressionRetriever(\n",
    "    base_compressor=compressor,\n",
    "    base_retriever=vectordb.as_retriever( search_type= 'mmr') \n",
    ")\n",
    "docs_compressed = compression_retriever.invoke(s)\n",
    "pretty_print_docs(docs_compressed)"
   ]
  },
  {
   "cell_type": "code",
   "execution_count": null,
   "metadata": {},
   "outputs": [
    {
     "data": {
      "text/plain": [
       "756"
      ]
     },
     "execution_count": 85,
     "metadata": {},
     "output_type": "execute_result"
    }
   ],
   "source": [
    " "
   ]
  },
  {
   "cell_type": "code",
   "execution_count": 94,
   "metadata": {},
   "outputs": [
    {
     "name": "stdout",
     "output_type": "stream",
     "text": [
      "----------------------------------------------------------------------------------------------------\n",
      "['Based on the information provided, the main contributors to regional climate variability in the UK are the proximity to the Atlantic Ocean, latitude, and the specific geographical location within the UK. Regions closest to the Atlantic Ocean, such as Scotland, are generally milder, wetter, and windier. Eastern areas are drier, cooler, and less windy, experiencing greater daily and seasonal temperature variations. Northern areas are generally cooler and wetter. The climate in the UK is defined as a humid temperate oceanic climate, with variations in temperature and precipitation influenced by these geographical factors.']\n",
      "----------------------------------------------------------------------------------------------------\n"
     ]
    }
   ],
   "source": [
    "#how would an llm respond to th query, when using any of these document splits? \n",
    "\n",
    "def docs_to_memory(docs):\n",
    "    if isinstance(docs[0],tuple):\n",
    "        lines = [d[0].page_content for d in docs]\n",
    "    else:\n",
    "        lines = [d.page_content for d in docs]\n",
    "\n",
    "    return '\\n'.join(lines)\n",
    " \n",
    "from langchain_core.prompts import ChatPromptTemplate\n",
    "from langchain_openai import ChatOpenAI\n",
    "from string import Template\n",
    "\n",
    "template = \"\"\"GENERAL INSTRUCTIONS\n",
    "You are a domain expert. Your task is to answer questions based only in the information provided as -MEMORY- \n",
    "\n",
    "MEMORY: \n",
    "{memory} \n",
    "\n",
    " \n",
    "USER QUESTION:\n",
    "{user_question}\n",
    " \n",
    " \n",
    "\"\"\"\n",
    "\n",
    "\n",
    "text_formatter = RecursiveCharacterTextSplitter(\n",
    "    chunk_size = 800,\n",
    "    chunk_overlap = 0\n",
    ")\n",
    "memory = docs_to_memory(docs_compressed) \n",
    "#memory = docs_to_memory(docs_mmr) \n",
    "#memory = docs_to_memory(docs_simple)\n",
    "\n",
    "t = template.replace( '{memory}', memory).replace('{user_question}',s)\n",
    "chat = ChatOpenAI(model='gpt-3.5-turbo', temperature = 0)\n",
    "response = chat.invoke( t ).content \n",
    "print(100*'-')\n",
    "print( text_formatter.split_text(response))\n",
    "print(100*'-')\n",
    "\n"
   ]
  },
  {
   "cell_type": "code",
   "execution_count": null,
   "metadata": {},
   "outputs": [],
   "source": [
    "doc1 = '''Tailored Solution: AI Drilling Parameter Recommender\n",
    "url:https://slb001.sharepoint.com/:w:/r/sites/DIIAIFactoryHQ/_layouts/15/Doc.aspx?sourcedoc=%7B2253B36E-8959-4328-9605-E0155BA933D4%7D&file=AI_Drilling_Parameter_Recommender_User_Guide.docx&action=default&mobileredirect=true\n",
    "presentation: https://slb001.sharepoint.com/:p:/r/sites/DIIAIFactoryHQ/_layouts/15/Doc.aspx?sourcedoc=%7B6B16EAC3-99A3-4609-8DAD-062D097375A7%7D&file=AI%20Drilling%20Parameter%20Recommender%20-%20one%20pager.pptx&action=edit&mobileredirect=true\n",
    "  \n",
    "Overview \n",
    "The AI Drilling Parameters Recommender application is an AI-powered tool designed to help drilling engineers and geoscientists optimize drilling parameters for achieving enhanced Rate of Penetration (ROP). By leveraging machine learning (ML) models and advanced data visualization techniques, this interactive tool provides a streamlined and data-driven approach to well planning and drilling operations, moving beyond traditional manual methods that are often time-intensive and dependent on expert judgment. Instead, the application delivers a systematic, scalable solution tailored to varying geological formations and well sections, maximizing efficiency and reducing project costs. \n",
    "This solution integrates with Dataiku as a backend for data processing and ML model deployment, with a user-friendly interface built using Plotly Dash. Through structured data processing—transforming key drilling inputs such as Weight on Bit (WOB), Rotary Speed (RPM), and Flow Rate—the application identifies optimal parameter combinations that drive ROP improvement. Using Partial Dependence Plots (PDP) and mesh grid exploration, it visualizes parameter influences on ROP, revealing operational \"sweet spots\" specific to each drilling context and helping to balance controllable factors like RPM and WOB with geological and operational constraints. \n",
    "A standout feature of this tool is its comprehensive parameter filtering and spatial selection capabilities. It enables users to filter wells by attributes such as BHA drive type, formation, section size, and bit model, which allows for more context-aware optimization. Additionally, the geographic selection feature—powered by latitude and longitude coordinates—supports filtering based on proximity to a reference well, ensuring that analyses are focused on relevant geological zones and providing ROP recommendations optimized for regional conditions. \n",
    "'''\n",
    "\n",
    "doc3 = \"\"\"Tailored Solution: AI waterflood insights \n",
    "url: https://slb001.sharepoint.com/:w:/r/sites/DIIAIFactoryHQ/_layouts/15/Doc.aspx?sourcedoc=%7B04D06E30-986D-4238-93B8-83724196E60F%7D&file=AI_Waterflood_Insights_App_Doc.docx&action=default&mobileredirect=true\n",
    "presentation: https://slb001.sharepoint.com/:p:/r/sites/DIIAIFactoryHQ/_layouts/15/Doc.aspx?sourcedoc=%7B0E8D62F1-6970-4BE4-B9A4-FF476E638219%7D&file=AI%20Waterflood%20Insights%20%20-%20one%20pager.pptx&action=edit&mobileredirect=true\n",
    "\n",
    "Overview \n",
    "The goal of getting more oil for every barrel of water injected while minimizing energy consumption is a complex optimization problem. Balancing the trade-off between oil production and energy usage poses a challenge in model development and implementation. The optimization of water allocation to injectors becomes crucial when the water supply is limited. It is difficult to adapt to changing conditions and optimize water allocation efficiently, ensuring maximum oil recovery under supply constraints. \n",
    "Moreover, limited water handling facilities pose operational challenges in managing production, especially in large waterflooded fields. The challenge involves developing a model that accounts for facility limitations, ensuring that production decisions align with the available handling capacity. \n",
    "Also, large waterflooded fields with a high well count demand rapid decision-making. There was a need to develop a system that handles the complexity of large datasets and numerous wells efficiently.  \n",
    "The solution is designed to optimize reservoir performance, ensuring maximum hydrocarbon recovery while minimizing the need for excessive injection and water handling. By precisely predicting production and injection rates, the solution helps operators make informed decisions to enhance overall recovery efficiency, ultimately leading to cost savings in injection and water management processes. \n",
    "The model significantly accelerates the decision-making process by providing actionable insights within 5 hours, compared to the traditional 23 hours for the pilot phase. This rapid turnaround enables operators to quickly respond to changing reservoir conditions, optimizing production strategies and resource allocation in a timely manner. It not only predicts reservoir performance but also offers prescriptive responses to operational upsets. It allows operators to simulate different scenarios and proactively plan for potential disruptions. By having a prescriptive approach, the solution empowers operators to implement corrective actions swiftly, mitigating risks and maintaining optimal reservoir performance. It achieves an 80% improvement in analysis efficiency during the pilot phase. Moreover, it significantly reduces the need for on-site field visits by 95% during the pilot phase, minimizing exposure to health, safety, and environmental (HSE) risks. \n",
    "The UI provided with the solution in this release is basic and limited to providing access to model historical liquid and water production; and perform analysis of model parameter that provide insights into connectivity. However, the software has been designed to be extensible to support custom UI development, such as forecasting and dashboarding, as desired by customers. \n",
    "In future releases, we aim to provide pattern balancing, what-if scenario analysis capabil'''\n",
    "\"\"\"\n",
    "\n",
    "doc2=\"\"\"Tailored Solution: ML-Assised log normalization and hydrocarbon correction \n",
    "url: https://slb001.sharepoint.com/:w:/r/sites/DIIAIFactoryHQ/_layouts/15/Doc.aspx?sourcedoc=%7B827C7EC7-9B2B-4D82-8982-42C25BCE2929%7D&file=Wellbore%20Solutions%20-%20ML%20Assisted%20Log%20Normalization%20and%20Hydrocarbon%20Correction%20User%20Guide.docx&action=default&mobileredirect=true\n",
    "presentation: https://slb001.sharepoint.com/:p:/r/sites/DIIAIFactoryHQ/_layouts/15/Doc.aspx?sourcedoc=%7B0BD05990-C3C7-4BE1-B9E1-56D2A6A9EFD9%7D&file=ML%20Assisted%20Log%20Normalization%20and%20Hydrocarbon%20Correction%20-%20one%20pager.pptx&action=edit&mobileredirect=true\n",
    "\n",
    "Overview \n",
    "Normalization and hydrocarbon correction tasks are applied to logs in multi-well workflows to standardize logs response over the same rock and reduce the impact from fluids influence and possible bias coming from different types of tools of the same physics. The ML Log Normalization and Hydrocarbon Correction solution provides tools to normalize logs and perform fluids substitution (hydrocarbon correction) based on the learning from expert provided results. Both normalization and fluids substitution workflows are supervised and require normalization and fluid substitution results as input together with the associated unprocessed logs. It is recommended to complete the normalization and fluids substitution for a representative subset of the wells (20 – 25%) covering possible lateral and vertical variations of the logs. We also assume that all input logs were quality controlled and edited prior to be used for machine learning. \n",
    "The application is developed using Dataiku® as a backend and TIBCO Spotfire® as a frontend solution, communicates with Techlog® projects and is flexible enough to be cloud-based or installed on premise. \n",
    " \n",
    "In this application, we addressed the following main challenges that differentiate it from its analogues: \n",
    "-3D spatial trends in the petrophysical properties found to be potentially as valuable as well data and integrated into machine learning algorithms working at the field scale.  \n",
    "-Generic data driven approaches are modified to better respect domain data. \n",
    "-Application integrates workflows to QC training data, cluster training results to capture heterogeneity, train and apply ML assisted solutions for both normalization and hydrocarbon corrections. \n",
    "-A user interaction toolbox is developed for an efficient workflow control, parameters adjustments and results QC.   \n",
    "The workflow built around ML driven algorithms uses domain expertise to transform generic data driven solutions to task oriented. The ML application will significantly save time and efforts to eliminate repetitive human tasks. Interactive and user-friendly dashboards provide the geoscientists a complete control \n",
    "over each step of the machine learning data driven workflow.\n",
    "\"\"\"\n",
    "from langchain.text_splitter import RecursiveCharacterTextSplitter\n",
    "text_splitter = RecursiveCharacterTextSplitter(\n",
    "    chunk_size = 1000,\n",
    "    chunk_overlap = 205\n",
    ")\n",
    "\n",
    "#splits1 = text_splitter.split_text(doc1)\n",
    "#splits2 = text_splitter.split_text(doc2)\n",
    "#splits3 = text_splitter.split_text(doc3)\n",
    "#splits = splits1 + splits2 + splits3 \n",
    "\n",
    "splits = text_splitter.split_text(doc1 + ' ' + doc2 + ' ' + doc3)\n",
    "\n",
    "persist_directory = 'docs/chroma/'\n",
    "vectordb = Chroma.from_texts(\n",
    "    texts = splits,\n",
    "    collection_name='tailored_solutions',\n",
    "    embedding=embedding,\n",
    "    persist_directory=persist_directory\n",
    ")\n",
    "\n",
    "\n",
    "\n"
   ]
  },
  {
   "cell_type": "markdown",
   "metadata": {},
   "source": [
    "### Compression retriever with mmr "
   ]
  },
  {
   "cell_type": "code",
   "execution_count": 81,
   "metadata": {},
   "outputs": [
    {
     "name": "stdout",
     "output_type": "stream",
     "text": [
      "Document 1:\n",
      "\n",
      "AI waterflood insights\n",
      "----------------------------------------------------------------------------------------------------\n",
      "Document 2:\n",
      "\n",
      "Tailored Solutions\n"
     ]
    }
   ],
   "source": [
    "from langchain.retrievers import ContextualCompressionRetriever\n",
    "from langchain.retrievers.document_compressors import LLMChainExtractor\n",
    "from langchain_openai  import OpenAI\n",
    "embedding = OpenAIEmbeddings()\n",
    "\n",
    "def pretty_print_docs(docs):\n",
    "    print(f\"\\n{'-' * 100}\\n\".join([f\"Document {i+1}:\\n\\n\" + d.page_content for i, d in enumerate(docs)]))\n",
    "\n",
    "# Wrap our vectorstore\n",
    "llm = OpenAI(temperature=0, model=\"gpt-3.5-turbo-instruct\")\n",
    "compressor = LLMChainExtractor.from_llm(llm)\n",
    "compression_retriever = ContextualCompressionRetriever(\n",
    "    base_compressor=compressor,\n",
    "    base_retriever=vectordb.as_retriever( search_type= 'mmr') \n",
    ")\n",
    "\n",
    "s = 'Which are the Tailored Solutions available'\n",
    "compressed_docs = compression_retriever.invoke(s)\n",
    "pretty_print_docs(compressed_docs)\n",
    "\n",
    "\n"
   ]
  },
  {
   "cell_type": "code",
   "execution_count": null,
   "metadata": {},
   "outputs": [
    {
     "data": {
      "text/plain": [
       "[Document(metadata={}, page_content='AI waterflood insights'),\n",
       " Document(metadata={}, page_content='Tailored Solutions')]"
      ]
     },
     "execution_count": 79,
     "metadata": {},
     "output_type": "execute_result"
    }
   ],
   "source": []
  },
  {
   "cell_type": "code",
   "execution_count": null,
   "metadata": {},
   "outputs": [
    {
     "data": {
      "text/plain": [
       "['Tailored Solution: ML-Assised log normalization and hydrocarbon correction',\n",
       " 'Tailored Solution: ML-Assised log normalization and hydrocarbon correction \\nurl: https://slb001.sharepoint.com/:w:/r/sites/DIIAIFactoryHQ/_layouts/15/Doc.aspx?sourcedoc=%7B827C7EC7-9B2B-4D82-8982-42C25BCE2929%7D&file=Wellbore%20Solutions%20-%20ML%20Assisted%20Log%20Normalization%20and%20Hydrocarbon%20Correction%20User%20Guide.docx&action=default&mobileredirect=true\\npresentation: https://slb001.sharepoint.com/:p:/r/sites/DIIAIFactoryHQ/_layouts/15/Doc.aspx?sourcedoc=%7B0BD05990-C3C7-4BE1-B9E1-56D2A6A9EFD9%7D&file=ML%20Assisted%20Log%20Normalization%20and%20Hydrocarbon%20Correction%20-%20one%20pager.pptx&action=edit&mobileredirect=true',\n",
       " 'https://slb001.sharepoint.com/:p:/r/sites/DIIAIFactoryHQ/_layouts/15/Doc.aspx?sourcedoc=%7B0BD05990-C3C7-4BE1-B9E1-56D2A6A9EFD9%7D&file=ML%20Assisted%20Log%20Normalization%20and%20Hydrocarbon%20Correction%20-%20one%20pager.pptx&action=edit&mobilered',\n",
       " 'types of tools of the same physics. The ML Log Normalization and Hydrocarbon Correction solution provides tools to normalize logs and perform fluids substitution (hydrocarbon correction) based on the learning from expert provided results. Both',\n",
       " 'the normalization and fluids substitution for a representative subset of the wells (20 – 25%) covering possible lateral and vertical variations of the logs. We also assume that all input logs were quality controlled and edited prior to be used for machine learning.']"
      ]
     },
     "execution_count": 46,
     "metadata": {},
     "output_type": "execute_result"
    }
   ],
   "source": []
  },
  {
   "cell_type": "code",
   "execution_count": null,
   "metadata": {},
   "outputs": [
    {
     "name": "stdout",
     "output_type": "stream",
     "text": [
      "5\n",
      "[Document(metadata={}, page_content='Tailored Solution: ML-Assised log normalization and hydrocarbon correction'), Document(metadata={}, page_content='the normalization and fluids substitution for a representative subset of the wells (20 – 25%) covering possible lateral and vertical variations of the logs. We also assume that all input logs were quality controlled and edited prior to be used for machine learning.'), Document(metadata={}, page_content='types of tools of the same physics. The ML Log Normalization and Hydrocarbon Correction solution provides tools to normalize logs and perform fluids substitution (hydrocarbon correction) based on the learning from expert provided results. Both'), Document(metadata={}, page_content='presentation: https://slb001.sharepoint.com/:p:/r/sites/DIIAIFactoryHQ/_layouts/15/Doc.aspx?sourcedoc=%7B0BD05990-C3C7-4BE1-B9E1-56D2A6A9EFD9%7D&file=ML%20Assisted%20Log%20Normalization%20and%20Hydrocarbon%20Correction%20-%20one%20pager.pptx&action=edit&mobileredirect=true'), Document(metadata={}, page_content='A standout feature of this tool is its comprehensive parameter filtering and spatial selection capabilities. It enables users to filter wells by attributes such as BHA drive type, formation, section size, and bit model, which allows for more context-aware optimization. Additionally, the geographic selection feature—powered by latitude and longitude coordinates—supports filtering based on proximity to a reference well, ensuring that analyses are focused on relevant geological zones and providing ROP recommendations optimized for regional conditions. \\n Tailored Solution: ML-Assised log normalization and hydrocarbon correction \\nurl: https://slb001.sharepoint.com/:w:/r/sites/DIIAIFactoryHQ/_layouts/15/Doc.aspx?sourcedoc=%7B827C7EC7-9B2B-4D82-8982-42C25BCE2929%7D&file=Wellbore%20Solutions%20-%20ML%20Assisted%20Log%20Normalization%20and%20Hydrocarbon%20Correction%20User%20Guide.docx&action=default&mobileredirect=true')]\n"
     ]
    },
    {
     "data": {
      "text/plain": [
       "['The main challenges of ML-Assisted log normalization include ensuring that the machine learning algorithms are accurately trained on high-quality input logs, addressing any potential biases in the training data, and validating the results of the normalization process to ensure accuracy and reliability. Additionally, integrating the ML-assisted log normalization tool into existing workflows and ensuring seamless compatibility with other software and tools used in the industry may also pose challenges.']"
      ]
     },
     "execution_count": 92,
     "metadata": {},
     "output_type": "execute_result"
    }
   ],
   "source": [
    "#s = 'List all the Tailored solutions available?'\n",
    "#s = 'Show me an overview of the AI Drilling Parameter Recommender'\n",
    "#s = 'Whats the ML-Assised log normalization and hydrocarbon correction '\n",
    "#s = 'Show me a link to all the presentations'\n",
    "#s = 'What does the AI waterflood insights do?'\n",
    "s = 'What are the main challenges of  ML-Assised log normalization '\n",
    "docs = vectordb.max_marginal_relevance_search( s, k = 5, fetch_k = 25 )\n",
    "print(len(docs))   \n",
    "print(docs)\n",
    "\n",
    "# Wrap our vectorstore\n",
    "#llm = OpenAI(temperature=0, model=\"gpt-3.5-turbo-instruct\")\n",
    "#compressor = LLMChainExtractor.from_llm(llm)\n",
    "#compression_retriever = ContextualCompressionRetriever(\n",
    "#    base_compressor=compressor,\n",
    "#    base_retriever=vectordb.as_retriever( search_type= 'mmr') \n",
    "#)\n",
    "#compressed_docs = compression_retriever.invoke(s)\n",
    "\n",
    "\n",
    "\n",
    "memory = [ p.page_content for p in docs ] \n",
    "memory = '\\n'.join(memory)\n",
    " \n",
    "from langchain_core.prompts import ChatPromptTemplate\n",
    "from langchain_openai import ChatOpenAI\n",
    "from string import Template\n",
    "\n",
    "template = \"\"\"GENERAL INSTRUCTIONS\n",
    "You are a domain expert. Your task is to answer questions. Use the MEMORY provided:\n",
    "\n",
    "MEMORY: \n",
    "{memory} \n",
    "\n",
    " \n",
    "USER QUESTION:\n",
    "{user_question}\n",
    " \n",
    " \n",
    "\"\"\"\n",
    "\n",
    "t = template.replace( '{memory}', memory).replace('{user_question}',s)\n",
    "\n",
    "chat = ChatOpenAI(model='gpt-3.5-turbo', temperature = 0)\n",
    "response = chat.invoke( t ).content \n",
    "\n",
    "text_splitter.split_text( response )\n"
   ]
  },
  {
   "cell_type": "code",
   "execution_count": 41,
   "metadata": {},
   "outputs": [
    {
     "data": {
      "text/plain": [
       "[(Document(metadata={}, page_content='Tailored Solution: AI Drilling Parameter Recommender'),\n",
       "  0.13798873126506805),\n",
       " (Document(metadata={}, page_content='Tailored Solution: AI Drilling Parameter Recommender\\nurl:https://slb001.sharepoint.com/:w:/r/sites/DIIAIFactoryHQ/_layouts/15/Doc.aspx?sourcedoc=%7B2253B36E-8959-4328-9605-E0155BA933D4%7D&file=AI_Drilling_Parameter_Recommender_User_Guide.docx&action=default&mobileredirect=true\\npresentation: https://slb001.sharepoint.com/:p:/r/sites/DIIAIFactoryHQ/_layouts/15/Doc.aspx?sourcedoc=%7B6B16EAC3-99A3-4609-8DAD-062D097375A7%7D&file=AI%20Drilling%20Parameter%20Recommender%20-%20one%20pager.pptx&action=edit&mobileredirect=true\\n  \\nOverview'),\n",
       "  0.16840557754039764),\n",
       " (Document(metadata={}, page_content='Tailored Solution: AI Drilling Parameter Recommender\\nurl:https://slb001.sharepoint.com/:w:/r/sites/DIIAIFactoryHQ/_layouts/15/Doc.aspx?sourcedoc=%7B2253B36E-8959-4328-9605-E0155BA933D4%7D&file=AI_Drilling_Parameter_Recommender_User_Guide.docx&action=default&mobileredirect=true\\npresentation: https://slb001.sharepoint.com/:p:/r/sites/DIIAIFactoryHQ/_layouts/15/Doc.aspx?sourcedoc=%7B6B16EAC3-99A3-4609-8DAD-062D097375A7%7D&file=AI%20Drilling%20Parameter%20Recommender%20-%20one%20pager.pptx&action=edit&mobileredirect=true\\n  \\nOverview'),\n",
       "  0.16840557754039764),\n",
       " (Document(metadata={}, page_content='Tailored Solution: AI Drilling Parameter Recommender\\nurl:https://slb001.sharepoint.com/:w:/r/sites/DIIAIFactoryHQ/_layouts/15/Doc.aspx?sourcedoc=%7B2253B36E-8959-4328-9605-E0155BA933D4%7D&file=AI_Drilling_Parameter_Recommender_User_Guide.docx&action=default&mobileredirect=true\\npresentation: https://slb001.sharepoint.com/:p:/r/sites/DIIAIFactoryHQ/_layouts/15/Doc.aspx?sourcedoc=%7B6B16EAC3-99A3-4609-8DAD-062D097375A7%7D&file=AI%20Drilling%20Parameter%20Recommender%20-%20one%20pager.pptx&action=edit&mobileredirect=true\\n  \\nOverview'),\n",
       "  0.16840557754039764),\n",
       " (Document(metadata={}, page_content='Tailored Solution: AI Drilling Parameter Recommender\\nurl:https://slb001.sharepoint.com/:w:/r/sites/DIIAIFactoryHQ/_layouts/15/Doc.aspx?sourcedoc=%7B2253B36E-8959-4328-9605-E0155BA933D4%7D&file=AI_Drilling_Parameter_Recommender_User_Guide.docx&action=default&mobileredirect=true\\npresentation: https://slb001.sharepoint.com/:p:/r/sites/DIIAIFactoryHQ/_layouts/15/Doc.aspx?sourcedoc=%7B6B16EAC3-99A3-4609-8DAD-062D097375A7%7D&file=AI%20Drilling%20Parameter%20Recommender%20-%20one%20pager.pptx&action=edit&mobileredirect=true\\n  \\nOverview'),\n",
       "  0.1684055969064132),\n",
       " (Document(metadata={}, page_content='Overview \\nThe AI Drilling Parameters Recommender application is an AI-powered tool designed to help drilling engineers and geoscientists optimize drilling parameters for achieving enhanced Rate of Penetration (ROP). By leveraging machine learning (ML) models and advanced data visualization techniques, this interactive tool provides a streamlined and data-driven approach to well planning and drilling operations, moving beyond traditional manual methods that are often time-intensive and dependent on expert judgment. Instead, the application delivers a systematic, scalable solution tailored to varying geological formations and well sections, maximizing efficiency and reducing project costs.'),\n",
       "  0.1934196917368943),\n",
       " (Document(metadata={}, page_content='Overview \\nThe AI Drilling Parameters Recommender application is an AI-powered tool designed to help drilling engineers and geoscientists optimize drilling parameters for achieving enhanced Rate of Penetration (ROP). By leveraging machine learning (ML) models and advanced data visualization techniques, this interactive tool provides a streamlined and data-driven approach to well planning and drilling operations, moving beyond traditional manual methods that are often time-intensive and dependent on expert judgment. Instead, the application delivers a systematic, scalable solution tailored to varying geological formations and well sections, maximizing efficiency and reducing project costs.'),\n",
       "  0.1934196949005127),\n",
       " (Document(metadata={}, page_content='Overview \\nThe AI Drilling Parameters Recommender application is an AI-powered tool designed to help drilling engineers and geoscientists optimize drilling parameters for achieving enhanced Rate of Penetration (ROP). By leveraging machine learning (ML) models and advanced data visualization techniques, this interactive tool provides a streamlined and data-driven approach to well planning and drilling operations, moving beyond traditional manual methods that are often time-intensive and dependent on expert judgment. Instead, the application delivers a systematic, scalable solution tailored to varying geological formations and well sections, maximizing efficiency and reducing project costs.'),\n",
       "  0.1934196949005127),\n",
       " (Document(metadata={}, page_content='Overview \\nThe AI Drilling Parameters Recommender application is an AI-powered tool designed to help drilling engineers and geoscientists optimize drilling parameters for achieving enhanced Rate of Penetration (ROP). By leveraging machine learning (ML) models and advanced data visualization techniques, this interactive tool provides a streamlined and data-driven approach to well planning and drilling operations, moving beyond traditional manual methods that are often time-intensive and dependent on expert judgment. Instead, the application delivers a systematic, scalable solution tailored to varying geological formations and well sections, maximizing efficiency and reducing project costs.'),\n",
       "  0.1934196949005127),\n",
       " (Document(metadata={}, page_content='The AI Drilling Parameters Recommender application is an AI-powered tool designed to help drilling engineers and geoscientists optimize drilling parameters for achieving enhanced Rate of Penetration (ROP). By leveraging machine learning (ML) models'),\n",
       "  0.20095479488372803)]"
      ]
     },
     "execution_count": 41,
     "metadata": {},
     "output_type": "execute_result"
    }
   ],
   "source": [
    "docs"
   ]
  },
  {
   "cell_type": "code",
   "execution_count": null,
   "metadata": {},
   "outputs": [
    {
     "name": "stdout",
     "output_type": "stream",
     "text": [
      "Document 1:\n",
      "\n",
      "Tailored Solution: AI waterflood insights\n",
      "----------------------------------------------------------------------------------------------------\n",
      "Document 2:\n",
      "\n",
      "software has been designed to be extensible to support custom UI development, such as forecasting and dashboarding, as desired by customers.\n",
      "----------------------------------------------------------------------------------------------------\n",
      "Document 3:\n",
      "\n",
      "In future releases, we aim to provide pattern balancing, what-if scenario analysis capabil'''\n"
     ]
    }
   ],
   "source": []
  }
 ],
 "metadata": {
  "kernelspec": {
   "display_name": ".venv",
   "language": "python",
   "name": "python3"
  },
  "language_info": {
   "codemirror_mode": {
    "name": "ipython",
    "version": 3
   },
   "file_extension": ".py",
   "mimetype": "text/x-python",
   "name": "python",
   "nbconvert_exporter": "python",
   "pygments_lexer": "ipython3",
   "version": "3.9.22"
  }
 },
 "nbformat": 4,
 "nbformat_minor": 2
}
